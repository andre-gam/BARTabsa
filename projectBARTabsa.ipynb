{
  "nbformat": 4,
  "nbformat_minor": 0,
  "metadata": {
    "colab": {
      "provenance": [],
      "gpuType": "T4",
      "machine_shape": "hm"
    },
    "kernelspec": {
      "name": "python3",
      "display_name": "Python 3"
    },
    "language_info": {
      "name": "python"
    },
    "accelerator": "GPU",
    "widgets": {
      "application/vnd.jupyter.widget-state+json": {
        "cf6afb876cc54d4a8c3f295a2a44db09": {
          "model_module": "@jupyter-widgets/controls",
          "model_name": "HBoxModel",
          "model_module_version": "1.5.0",
          "state": {
            "_dom_classes": [],
            "_model_module": "@jupyter-widgets/controls",
            "_model_module_version": "1.5.0",
            "_model_name": "HBoxModel",
            "_view_count": null,
            "_view_module": "@jupyter-widgets/controls",
            "_view_module_version": "1.5.0",
            "_view_name": "HBoxView",
            "box_style": "",
            "children": [
              "IPY_MODEL_4836a5c794d648228a5c26a6d12600d9",
              "IPY_MODEL_66bc8786cdba4a29a08a5c3369d0e0ab",
              "IPY_MODEL_db8faee6c4534aaf93e9872665849fe9"
            ],
            "layout": "IPY_MODEL_2309daace2bf43d4a87b422a38a0d727"
          }
        },
        "4836a5c794d648228a5c26a6d12600d9": {
          "model_module": "@jupyter-widgets/controls",
          "model_name": "HTMLModel",
          "model_module_version": "1.5.0",
          "state": {
            "_dom_classes": [],
            "_model_module": "@jupyter-widgets/controls",
            "_model_module_version": "1.5.0",
            "_model_name": "HTMLModel",
            "_view_count": null,
            "_view_module": "@jupyter-widgets/controls",
            "_view_module_version": "1.5.0",
            "_view_name": "HTMLView",
            "description": "",
            "description_tooltip": null,
            "layout": "IPY_MODEL_f7bd9f5d77c34de8b154a64b2fd1ff73",
            "placeholder": "​",
            "style": "IPY_MODEL_4ace0e900f6f47e19256bd61aa601e50",
            "value": "config.json: 100%"
          }
        },
        "66bc8786cdba4a29a08a5c3369d0e0ab": {
          "model_module": "@jupyter-widgets/controls",
          "model_name": "FloatProgressModel",
          "model_module_version": "1.5.0",
          "state": {
            "_dom_classes": [],
            "_model_module": "@jupyter-widgets/controls",
            "_model_module_version": "1.5.0",
            "_model_name": "FloatProgressModel",
            "_view_count": null,
            "_view_module": "@jupyter-widgets/controls",
            "_view_module_version": "1.5.0",
            "_view_name": "ProgressView",
            "bar_style": "success",
            "description": "",
            "description_tooltip": null,
            "layout": "IPY_MODEL_cdcc19cf6fd14dcba95ab3c725b0b01f",
            "max": 1716,
            "min": 0,
            "orientation": "horizontal",
            "style": "IPY_MODEL_4af3bd28b21143b6bc1e6de7823612e1",
            "value": 1716
          }
        },
        "db8faee6c4534aaf93e9872665849fe9": {
          "model_module": "@jupyter-widgets/controls",
          "model_name": "HTMLModel",
          "model_module_version": "1.5.0",
          "state": {
            "_dom_classes": [],
            "_model_module": "@jupyter-widgets/controls",
            "_model_module_version": "1.5.0",
            "_model_name": "HTMLModel",
            "_view_count": null,
            "_view_module": "@jupyter-widgets/controls",
            "_view_module_version": "1.5.0",
            "_view_name": "HTMLView",
            "description": "",
            "description_tooltip": null,
            "layout": "IPY_MODEL_b89b7426756449cf8089707a5e60d88f",
            "placeholder": "​",
            "style": "IPY_MODEL_9313cd5851374715b7e852401c074f96",
            "value": " 1.72k/1.72k [00:00&lt;00:00, 138kB/s]"
          }
        },
        "2309daace2bf43d4a87b422a38a0d727": {
          "model_module": "@jupyter-widgets/base",
          "model_name": "LayoutModel",
          "model_module_version": "1.2.0",
          "state": {
            "_model_module": "@jupyter-widgets/base",
            "_model_module_version": "1.2.0",
            "_model_name": "LayoutModel",
            "_view_count": null,
            "_view_module": "@jupyter-widgets/base",
            "_view_module_version": "1.2.0",
            "_view_name": "LayoutView",
            "align_content": null,
            "align_items": null,
            "align_self": null,
            "border": null,
            "bottom": null,
            "display": null,
            "flex": null,
            "flex_flow": null,
            "grid_area": null,
            "grid_auto_columns": null,
            "grid_auto_flow": null,
            "grid_auto_rows": null,
            "grid_column": null,
            "grid_gap": null,
            "grid_row": null,
            "grid_template_areas": null,
            "grid_template_columns": null,
            "grid_template_rows": null,
            "height": null,
            "justify_content": null,
            "justify_items": null,
            "left": null,
            "margin": null,
            "max_height": null,
            "max_width": null,
            "min_height": null,
            "min_width": null,
            "object_fit": null,
            "object_position": null,
            "order": null,
            "overflow": null,
            "overflow_x": null,
            "overflow_y": null,
            "padding": null,
            "right": null,
            "top": null,
            "visibility": null,
            "width": null
          }
        },
        "f7bd9f5d77c34de8b154a64b2fd1ff73": {
          "model_module": "@jupyter-widgets/base",
          "model_name": "LayoutModel",
          "model_module_version": "1.2.0",
          "state": {
            "_model_module": "@jupyter-widgets/base",
            "_model_module_version": "1.2.0",
            "_model_name": "LayoutModel",
            "_view_count": null,
            "_view_module": "@jupyter-widgets/base",
            "_view_module_version": "1.2.0",
            "_view_name": "LayoutView",
            "align_content": null,
            "align_items": null,
            "align_self": null,
            "border": null,
            "bottom": null,
            "display": null,
            "flex": null,
            "flex_flow": null,
            "grid_area": null,
            "grid_auto_columns": null,
            "grid_auto_flow": null,
            "grid_auto_rows": null,
            "grid_column": null,
            "grid_gap": null,
            "grid_row": null,
            "grid_template_areas": null,
            "grid_template_columns": null,
            "grid_template_rows": null,
            "height": null,
            "justify_content": null,
            "justify_items": null,
            "left": null,
            "margin": null,
            "max_height": null,
            "max_width": null,
            "min_height": null,
            "min_width": null,
            "object_fit": null,
            "object_position": null,
            "order": null,
            "overflow": null,
            "overflow_x": null,
            "overflow_y": null,
            "padding": null,
            "right": null,
            "top": null,
            "visibility": null,
            "width": null
          }
        },
        "4ace0e900f6f47e19256bd61aa601e50": {
          "model_module": "@jupyter-widgets/controls",
          "model_name": "DescriptionStyleModel",
          "model_module_version": "1.5.0",
          "state": {
            "_model_module": "@jupyter-widgets/controls",
            "_model_module_version": "1.5.0",
            "_model_name": "DescriptionStyleModel",
            "_view_count": null,
            "_view_module": "@jupyter-widgets/base",
            "_view_module_version": "1.2.0",
            "_view_name": "StyleView",
            "description_width": ""
          }
        },
        "cdcc19cf6fd14dcba95ab3c725b0b01f": {
          "model_module": "@jupyter-widgets/base",
          "model_name": "LayoutModel",
          "model_module_version": "1.2.0",
          "state": {
            "_model_module": "@jupyter-widgets/base",
            "_model_module_version": "1.2.0",
            "_model_name": "LayoutModel",
            "_view_count": null,
            "_view_module": "@jupyter-widgets/base",
            "_view_module_version": "1.2.0",
            "_view_name": "LayoutView",
            "align_content": null,
            "align_items": null,
            "align_self": null,
            "border": null,
            "bottom": null,
            "display": null,
            "flex": null,
            "flex_flow": null,
            "grid_area": null,
            "grid_auto_columns": null,
            "grid_auto_flow": null,
            "grid_auto_rows": null,
            "grid_column": null,
            "grid_gap": null,
            "grid_row": null,
            "grid_template_areas": null,
            "grid_template_columns": null,
            "grid_template_rows": null,
            "height": null,
            "justify_content": null,
            "justify_items": null,
            "left": null,
            "margin": null,
            "max_height": null,
            "max_width": null,
            "min_height": null,
            "min_width": null,
            "object_fit": null,
            "object_position": null,
            "order": null,
            "overflow": null,
            "overflow_x": null,
            "overflow_y": null,
            "padding": null,
            "right": null,
            "top": null,
            "visibility": null,
            "width": null
          }
        },
        "4af3bd28b21143b6bc1e6de7823612e1": {
          "model_module": "@jupyter-widgets/controls",
          "model_name": "ProgressStyleModel",
          "model_module_version": "1.5.0",
          "state": {
            "_model_module": "@jupyter-widgets/controls",
            "_model_module_version": "1.5.0",
            "_model_name": "ProgressStyleModel",
            "_view_count": null,
            "_view_module": "@jupyter-widgets/base",
            "_view_module_version": "1.2.0",
            "_view_name": "StyleView",
            "bar_color": null,
            "description_width": ""
          }
        },
        "b89b7426756449cf8089707a5e60d88f": {
          "model_module": "@jupyter-widgets/base",
          "model_name": "LayoutModel",
          "model_module_version": "1.2.0",
          "state": {
            "_model_module": "@jupyter-widgets/base",
            "_model_module_version": "1.2.0",
            "_model_name": "LayoutModel",
            "_view_count": null,
            "_view_module": "@jupyter-widgets/base",
            "_view_module_version": "1.2.0",
            "_view_name": "LayoutView",
            "align_content": null,
            "align_items": null,
            "align_self": null,
            "border": null,
            "bottom": null,
            "display": null,
            "flex": null,
            "flex_flow": null,
            "grid_area": null,
            "grid_auto_columns": null,
            "grid_auto_flow": null,
            "grid_auto_rows": null,
            "grid_column": null,
            "grid_gap": null,
            "grid_row": null,
            "grid_template_areas": null,
            "grid_template_columns": null,
            "grid_template_rows": null,
            "height": null,
            "justify_content": null,
            "justify_items": null,
            "left": null,
            "margin": null,
            "max_height": null,
            "max_width": null,
            "min_height": null,
            "min_width": null,
            "object_fit": null,
            "object_position": null,
            "order": null,
            "overflow": null,
            "overflow_x": null,
            "overflow_y": null,
            "padding": null,
            "right": null,
            "top": null,
            "visibility": null,
            "width": null
          }
        },
        "9313cd5851374715b7e852401c074f96": {
          "model_module": "@jupyter-widgets/controls",
          "model_name": "DescriptionStyleModel",
          "model_module_version": "1.5.0",
          "state": {
            "_model_module": "@jupyter-widgets/controls",
            "_model_module_version": "1.5.0",
            "_model_name": "DescriptionStyleModel",
            "_view_count": null,
            "_view_module": "@jupyter-widgets/base",
            "_view_module_version": "1.2.0",
            "_view_name": "StyleView",
            "description_width": ""
          }
        },
        "a2141c80ca824c4195cb3bf3d6182ba2": {
          "model_module": "@jupyter-widgets/controls",
          "model_name": "HBoxModel",
          "model_module_version": "1.5.0",
          "state": {
            "_dom_classes": [],
            "_model_module": "@jupyter-widgets/controls",
            "_model_module_version": "1.5.0",
            "_model_name": "HBoxModel",
            "_view_count": null,
            "_view_module": "@jupyter-widgets/controls",
            "_view_module_version": "1.5.0",
            "_view_name": "HBoxView",
            "box_style": "",
            "children": [
              "IPY_MODEL_8543356d3eeb492d9efba3920bbf7f91",
              "IPY_MODEL_857904fa9c374ea6b23f454938a77b0a",
              "IPY_MODEL_9a2e18b79cd14b86b1f0864542f97aaf"
            ],
            "layout": "IPY_MODEL_5d61826ed0aa42ec8e09a181a67fdce3"
          }
        },
        "8543356d3eeb492d9efba3920bbf7f91": {
          "model_module": "@jupyter-widgets/controls",
          "model_name": "HTMLModel",
          "model_module_version": "1.5.0",
          "state": {
            "_dom_classes": [],
            "_model_module": "@jupyter-widgets/controls",
            "_model_module_version": "1.5.0",
            "_model_name": "HTMLModel",
            "_view_count": null,
            "_view_module": "@jupyter-widgets/controls",
            "_view_module_version": "1.5.0",
            "_view_name": "HTMLView",
            "description": "",
            "description_tooltip": null,
            "layout": "IPY_MODEL_63a49e881d134f508cd8d7db565df623",
            "placeholder": "​",
            "style": "IPY_MODEL_ff85fb842e3942038836e0824ccdd2bb",
            "value": "vocab.json: 100%"
          }
        },
        "857904fa9c374ea6b23f454938a77b0a": {
          "model_module": "@jupyter-widgets/controls",
          "model_name": "FloatProgressModel",
          "model_module_version": "1.5.0",
          "state": {
            "_dom_classes": [],
            "_model_module": "@jupyter-widgets/controls",
            "_model_module_version": "1.5.0",
            "_model_name": "FloatProgressModel",
            "_view_count": null,
            "_view_module": "@jupyter-widgets/controls",
            "_view_module_version": "1.5.0",
            "_view_name": "ProgressView",
            "bar_style": "success",
            "description": "",
            "description_tooltip": null,
            "layout": "IPY_MODEL_b77d29429e2c4779b6c192bcfe0d4883",
            "max": 898823,
            "min": 0,
            "orientation": "horizontal",
            "style": "IPY_MODEL_45d1d932c4534de180776b57349594db",
            "value": 898823
          }
        },
        "9a2e18b79cd14b86b1f0864542f97aaf": {
          "model_module": "@jupyter-widgets/controls",
          "model_name": "HTMLModel",
          "model_module_version": "1.5.0",
          "state": {
            "_dom_classes": [],
            "_model_module": "@jupyter-widgets/controls",
            "_model_module_version": "1.5.0",
            "_model_name": "HTMLModel",
            "_view_count": null,
            "_view_module": "@jupyter-widgets/controls",
            "_view_module_version": "1.5.0",
            "_view_name": "HTMLView",
            "description": "",
            "description_tooltip": null,
            "layout": "IPY_MODEL_2337b6e74e0d4799afc197896163bda4",
            "placeholder": "​",
            "style": "IPY_MODEL_946338e843114dbea9a1175ffd3be622",
            "value": " 899k/899k [00:00&lt;00:00, 38.1MB/s]"
          }
        },
        "5d61826ed0aa42ec8e09a181a67fdce3": {
          "model_module": "@jupyter-widgets/base",
          "model_name": "LayoutModel",
          "model_module_version": "1.2.0",
          "state": {
            "_model_module": "@jupyter-widgets/base",
            "_model_module_version": "1.2.0",
            "_model_name": "LayoutModel",
            "_view_count": null,
            "_view_module": "@jupyter-widgets/base",
            "_view_module_version": "1.2.0",
            "_view_name": "LayoutView",
            "align_content": null,
            "align_items": null,
            "align_self": null,
            "border": null,
            "bottom": null,
            "display": null,
            "flex": null,
            "flex_flow": null,
            "grid_area": null,
            "grid_auto_columns": null,
            "grid_auto_flow": null,
            "grid_auto_rows": null,
            "grid_column": null,
            "grid_gap": null,
            "grid_row": null,
            "grid_template_areas": null,
            "grid_template_columns": null,
            "grid_template_rows": null,
            "height": null,
            "justify_content": null,
            "justify_items": null,
            "left": null,
            "margin": null,
            "max_height": null,
            "max_width": null,
            "min_height": null,
            "min_width": null,
            "object_fit": null,
            "object_position": null,
            "order": null,
            "overflow": null,
            "overflow_x": null,
            "overflow_y": null,
            "padding": null,
            "right": null,
            "top": null,
            "visibility": null,
            "width": null
          }
        },
        "63a49e881d134f508cd8d7db565df623": {
          "model_module": "@jupyter-widgets/base",
          "model_name": "LayoutModel",
          "model_module_version": "1.2.0",
          "state": {
            "_model_module": "@jupyter-widgets/base",
            "_model_module_version": "1.2.0",
            "_model_name": "LayoutModel",
            "_view_count": null,
            "_view_module": "@jupyter-widgets/base",
            "_view_module_version": "1.2.0",
            "_view_name": "LayoutView",
            "align_content": null,
            "align_items": null,
            "align_self": null,
            "border": null,
            "bottom": null,
            "display": null,
            "flex": null,
            "flex_flow": null,
            "grid_area": null,
            "grid_auto_columns": null,
            "grid_auto_flow": null,
            "grid_auto_rows": null,
            "grid_column": null,
            "grid_gap": null,
            "grid_row": null,
            "grid_template_areas": null,
            "grid_template_columns": null,
            "grid_template_rows": null,
            "height": null,
            "justify_content": null,
            "justify_items": null,
            "left": null,
            "margin": null,
            "max_height": null,
            "max_width": null,
            "min_height": null,
            "min_width": null,
            "object_fit": null,
            "object_position": null,
            "order": null,
            "overflow": null,
            "overflow_x": null,
            "overflow_y": null,
            "padding": null,
            "right": null,
            "top": null,
            "visibility": null,
            "width": null
          }
        },
        "ff85fb842e3942038836e0824ccdd2bb": {
          "model_module": "@jupyter-widgets/controls",
          "model_name": "DescriptionStyleModel",
          "model_module_version": "1.5.0",
          "state": {
            "_model_module": "@jupyter-widgets/controls",
            "_model_module_version": "1.5.0",
            "_model_name": "DescriptionStyleModel",
            "_view_count": null,
            "_view_module": "@jupyter-widgets/base",
            "_view_module_version": "1.2.0",
            "_view_name": "StyleView",
            "description_width": ""
          }
        },
        "b77d29429e2c4779b6c192bcfe0d4883": {
          "model_module": "@jupyter-widgets/base",
          "model_name": "LayoutModel",
          "model_module_version": "1.2.0",
          "state": {
            "_model_module": "@jupyter-widgets/base",
            "_model_module_version": "1.2.0",
            "_model_name": "LayoutModel",
            "_view_count": null,
            "_view_module": "@jupyter-widgets/base",
            "_view_module_version": "1.2.0",
            "_view_name": "LayoutView",
            "align_content": null,
            "align_items": null,
            "align_self": null,
            "border": null,
            "bottom": null,
            "display": null,
            "flex": null,
            "flex_flow": null,
            "grid_area": null,
            "grid_auto_columns": null,
            "grid_auto_flow": null,
            "grid_auto_rows": null,
            "grid_column": null,
            "grid_gap": null,
            "grid_row": null,
            "grid_template_areas": null,
            "grid_template_columns": null,
            "grid_template_rows": null,
            "height": null,
            "justify_content": null,
            "justify_items": null,
            "left": null,
            "margin": null,
            "max_height": null,
            "max_width": null,
            "min_height": null,
            "min_width": null,
            "object_fit": null,
            "object_position": null,
            "order": null,
            "overflow": null,
            "overflow_x": null,
            "overflow_y": null,
            "padding": null,
            "right": null,
            "top": null,
            "visibility": null,
            "width": null
          }
        },
        "45d1d932c4534de180776b57349594db": {
          "model_module": "@jupyter-widgets/controls",
          "model_name": "ProgressStyleModel",
          "model_module_version": "1.5.0",
          "state": {
            "_model_module": "@jupyter-widgets/controls",
            "_model_module_version": "1.5.0",
            "_model_name": "ProgressStyleModel",
            "_view_count": null,
            "_view_module": "@jupyter-widgets/base",
            "_view_module_version": "1.2.0",
            "_view_name": "StyleView",
            "bar_color": null,
            "description_width": ""
          }
        },
        "2337b6e74e0d4799afc197896163bda4": {
          "model_module": "@jupyter-widgets/base",
          "model_name": "LayoutModel",
          "model_module_version": "1.2.0",
          "state": {
            "_model_module": "@jupyter-widgets/base",
            "_model_module_version": "1.2.0",
            "_model_name": "LayoutModel",
            "_view_count": null,
            "_view_module": "@jupyter-widgets/base",
            "_view_module_version": "1.2.0",
            "_view_name": "LayoutView",
            "align_content": null,
            "align_items": null,
            "align_self": null,
            "border": null,
            "bottom": null,
            "display": null,
            "flex": null,
            "flex_flow": null,
            "grid_area": null,
            "grid_auto_columns": null,
            "grid_auto_flow": null,
            "grid_auto_rows": null,
            "grid_column": null,
            "grid_gap": null,
            "grid_row": null,
            "grid_template_areas": null,
            "grid_template_columns": null,
            "grid_template_rows": null,
            "height": null,
            "justify_content": null,
            "justify_items": null,
            "left": null,
            "margin": null,
            "max_height": null,
            "max_width": null,
            "min_height": null,
            "min_width": null,
            "object_fit": null,
            "object_position": null,
            "order": null,
            "overflow": null,
            "overflow_x": null,
            "overflow_y": null,
            "padding": null,
            "right": null,
            "top": null,
            "visibility": null,
            "width": null
          }
        },
        "946338e843114dbea9a1175ffd3be622": {
          "model_module": "@jupyter-widgets/controls",
          "model_name": "DescriptionStyleModel",
          "model_module_version": "1.5.0",
          "state": {
            "_model_module": "@jupyter-widgets/controls",
            "_model_module_version": "1.5.0",
            "_model_name": "DescriptionStyleModel",
            "_view_count": null,
            "_view_module": "@jupyter-widgets/base",
            "_view_module_version": "1.2.0",
            "_view_name": "StyleView",
            "description_width": ""
          }
        },
        "af2b29b91bca4c6fbe297801fdb2dc14": {
          "model_module": "@jupyter-widgets/controls",
          "model_name": "HBoxModel",
          "model_module_version": "1.5.0",
          "state": {
            "_dom_classes": [],
            "_model_module": "@jupyter-widgets/controls",
            "_model_module_version": "1.5.0",
            "_model_name": "HBoxModel",
            "_view_count": null,
            "_view_module": "@jupyter-widgets/controls",
            "_view_module_version": "1.5.0",
            "_view_name": "HBoxView",
            "box_style": "",
            "children": [
              "IPY_MODEL_2f56f69814654467a3bc159710adf5ae",
              "IPY_MODEL_0f8398e897d94f028c613a17146bf824",
              "IPY_MODEL_59c29d317fdc432eb234b5611b206cdb"
            ],
            "layout": "IPY_MODEL_7ac1e5ac79834c6497493a08c52a09ca"
          }
        },
        "2f56f69814654467a3bc159710adf5ae": {
          "model_module": "@jupyter-widgets/controls",
          "model_name": "HTMLModel",
          "model_module_version": "1.5.0",
          "state": {
            "_dom_classes": [],
            "_model_module": "@jupyter-widgets/controls",
            "_model_module_version": "1.5.0",
            "_model_name": "HTMLModel",
            "_view_count": null,
            "_view_module": "@jupyter-widgets/controls",
            "_view_module_version": "1.5.0",
            "_view_name": "HTMLView",
            "description": "",
            "description_tooltip": null,
            "layout": "IPY_MODEL_f1e851d7de8b4c2d9f89cfd4f4ece9da",
            "placeholder": "​",
            "style": "IPY_MODEL_f3b7a0744a14426ca7871018f36d83aa",
            "value": "merges.txt: 100%"
          }
        },
        "0f8398e897d94f028c613a17146bf824": {
          "model_module": "@jupyter-widgets/controls",
          "model_name": "FloatProgressModel",
          "model_module_version": "1.5.0",
          "state": {
            "_dom_classes": [],
            "_model_module": "@jupyter-widgets/controls",
            "_model_module_version": "1.5.0",
            "_model_name": "FloatProgressModel",
            "_view_count": null,
            "_view_module": "@jupyter-widgets/controls",
            "_view_module_version": "1.5.0",
            "_view_name": "ProgressView",
            "bar_style": "success",
            "description": "",
            "description_tooltip": null,
            "layout": "IPY_MODEL_99bc6d9570644e948a69748898e11366",
            "max": 456318,
            "min": 0,
            "orientation": "horizontal",
            "style": "IPY_MODEL_ce940e861a0b425eb4b3c3e89eea67c4",
            "value": 456318
          }
        },
        "59c29d317fdc432eb234b5611b206cdb": {
          "model_module": "@jupyter-widgets/controls",
          "model_name": "HTMLModel",
          "model_module_version": "1.5.0",
          "state": {
            "_dom_classes": [],
            "_model_module": "@jupyter-widgets/controls",
            "_model_module_version": "1.5.0",
            "_model_name": "HTMLModel",
            "_view_count": null,
            "_view_module": "@jupyter-widgets/controls",
            "_view_module_version": "1.5.0",
            "_view_name": "HTMLView",
            "description": "",
            "description_tooltip": null,
            "layout": "IPY_MODEL_f53c3bca1d824f19ac4cf064dc52cf40",
            "placeholder": "​",
            "style": "IPY_MODEL_e412fc4ef617474a8f1c3b346d73efa0",
            "value": " 456k/456k [00:00&lt;00:00, 36.0MB/s]"
          }
        },
        "7ac1e5ac79834c6497493a08c52a09ca": {
          "model_module": "@jupyter-widgets/base",
          "model_name": "LayoutModel",
          "model_module_version": "1.2.0",
          "state": {
            "_model_module": "@jupyter-widgets/base",
            "_model_module_version": "1.2.0",
            "_model_name": "LayoutModel",
            "_view_count": null,
            "_view_module": "@jupyter-widgets/base",
            "_view_module_version": "1.2.0",
            "_view_name": "LayoutView",
            "align_content": null,
            "align_items": null,
            "align_self": null,
            "border": null,
            "bottom": null,
            "display": null,
            "flex": null,
            "flex_flow": null,
            "grid_area": null,
            "grid_auto_columns": null,
            "grid_auto_flow": null,
            "grid_auto_rows": null,
            "grid_column": null,
            "grid_gap": null,
            "grid_row": null,
            "grid_template_areas": null,
            "grid_template_columns": null,
            "grid_template_rows": null,
            "height": null,
            "justify_content": null,
            "justify_items": null,
            "left": null,
            "margin": null,
            "max_height": null,
            "max_width": null,
            "min_height": null,
            "min_width": null,
            "object_fit": null,
            "object_position": null,
            "order": null,
            "overflow": null,
            "overflow_x": null,
            "overflow_y": null,
            "padding": null,
            "right": null,
            "top": null,
            "visibility": null,
            "width": null
          }
        },
        "f1e851d7de8b4c2d9f89cfd4f4ece9da": {
          "model_module": "@jupyter-widgets/base",
          "model_name": "LayoutModel",
          "model_module_version": "1.2.0",
          "state": {
            "_model_module": "@jupyter-widgets/base",
            "_model_module_version": "1.2.0",
            "_model_name": "LayoutModel",
            "_view_count": null,
            "_view_module": "@jupyter-widgets/base",
            "_view_module_version": "1.2.0",
            "_view_name": "LayoutView",
            "align_content": null,
            "align_items": null,
            "align_self": null,
            "border": null,
            "bottom": null,
            "display": null,
            "flex": null,
            "flex_flow": null,
            "grid_area": null,
            "grid_auto_columns": null,
            "grid_auto_flow": null,
            "grid_auto_rows": null,
            "grid_column": null,
            "grid_gap": null,
            "grid_row": null,
            "grid_template_areas": null,
            "grid_template_columns": null,
            "grid_template_rows": null,
            "height": null,
            "justify_content": null,
            "justify_items": null,
            "left": null,
            "margin": null,
            "max_height": null,
            "max_width": null,
            "min_height": null,
            "min_width": null,
            "object_fit": null,
            "object_position": null,
            "order": null,
            "overflow": null,
            "overflow_x": null,
            "overflow_y": null,
            "padding": null,
            "right": null,
            "top": null,
            "visibility": null,
            "width": null
          }
        },
        "f3b7a0744a14426ca7871018f36d83aa": {
          "model_module": "@jupyter-widgets/controls",
          "model_name": "DescriptionStyleModel",
          "model_module_version": "1.5.0",
          "state": {
            "_model_module": "@jupyter-widgets/controls",
            "_model_module_version": "1.5.0",
            "_model_name": "DescriptionStyleModel",
            "_view_count": null,
            "_view_module": "@jupyter-widgets/base",
            "_view_module_version": "1.2.0",
            "_view_name": "StyleView",
            "description_width": ""
          }
        },
        "99bc6d9570644e948a69748898e11366": {
          "model_module": "@jupyter-widgets/base",
          "model_name": "LayoutModel",
          "model_module_version": "1.2.0",
          "state": {
            "_model_module": "@jupyter-widgets/base",
            "_model_module_version": "1.2.0",
            "_model_name": "LayoutModel",
            "_view_count": null,
            "_view_module": "@jupyter-widgets/base",
            "_view_module_version": "1.2.0",
            "_view_name": "LayoutView",
            "align_content": null,
            "align_items": null,
            "align_self": null,
            "border": null,
            "bottom": null,
            "display": null,
            "flex": null,
            "flex_flow": null,
            "grid_area": null,
            "grid_auto_columns": null,
            "grid_auto_flow": null,
            "grid_auto_rows": null,
            "grid_column": null,
            "grid_gap": null,
            "grid_row": null,
            "grid_template_areas": null,
            "grid_template_columns": null,
            "grid_template_rows": null,
            "height": null,
            "justify_content": null,
            "justify_items": null,
            "left": null,
            "margin": null,
            "max_height": null,
            "max_width": null,
            "min_height": null,
            "min_width": null,
            "object_fit": null,
            "object_position": null,
            "order": null,
            "overflow": null,
            "overflow_x": null,
            "overflow_y": null,
            "padding": null,
            "right": null,
            "top": null,
            "visibility": null,
            "width": null
          }
        },
        "ce940e861a0b425eb4b3c3e89eea67c4": {
          "model_module": "@jupyter-widgets/controls",
          "model_name": "ProgressStyleModel",
          "model_module_version": "1.5.0",
          "state": {
            "_model_module": "@jupyter-widgets/controls",
            "_model_module_version": "1.5.0",
            "_model_name": "ProgressStyleModel",
            "_view_count": null,
            "_view_module": "@jupyter-widgets/base",
            "_view_module_version": "1.2.0",
            "_view_name": "StyleView",
            "bar_color": null,
            "description_width": ""
          }
        },
        "f53c3bca1d824f19ac4cf064dc52cf40": {
          "model_module": "@jupyter-widgets/base",
          "model_name": "LayoutModel",
          "model_module_version": "1.2.0",
          "state": {
            "_model_module": "@jupyter-widgets/base",
            "_model_module_version": "1.2.0",
            "_model_name": "LayoutModel",
            "_view_count": null,
            "_view_module": "@jupyter-widgets/base",
            "_view_module_version": "1.2.0",
            "_view_name": "LayoutView",
            "align_content": null,
            "align_items": null,
            "align_self": null,
            "border": null,
            "bottom": null,
            "display": null,
            "flex": null,
            "flex_flow": null,
            "grid_area": null,
            "grid_auto_columns": null,
            "grid_auto_flow": null,
            "grid_auto_rows": null,
            "grid_column": null,
            "grid_gap": null,
            "grid_row": null,
            "grid_template_areas": null,
            "grid_template_columns": null,
            "grid_template_rows": null,
            "height": null,
            "justify_content": null,
            "justify_items": null,
            "left": null,
            "margin": null,
            "max_height": null,
            "max_width": null,
            "min_height": null,
            "min_width": null,
            "object_fit": null,
            "object_position": null,
            "order": null,
            "overflow": null,
            "overflow_x": null,
            "overflow_y": null,
            "padding": null,
            "right": null,
            "top": null,
            "visibility": null,
            "width": null
          }
        },
        "e412fc4ef617474a8f1c3b346d73efa0": {
          "model_module": "@jupyter-widgets/controls",
          "model_name": "DescriptionStyleModel",
          "model_module_version": "1.5.0",
          "state": {
            "_model_module": "@jupyter-widgets/controls",
            "_model_module_version": "1.5.0",
            "_model_name": "DescriptionStyleModel",
            "_view_count": null,
            "_view_module": "@jupyter-widgets/base",
            "_view_module_version": "1.2.0",
            "_view_name": "StyleView",
            "description_width": ""
          }
        },
        "42c494c855c548099ceaeb10d7795421": {
          "model_module": "@jupyter-widgets/controls",
          "model_name": "HBoxModel",
          "model_module_version": "1.5.0",
          "state": {
            "_dom_classes": [],
            "_model_module": "@jupyter-widgets/controls",
            "_model_module_version": "1.5.0",
            "_model_name": "HBoxModel",
            "_view_count": null,
            "_view_module": "@jupyter-widgets/controls",
            "_view_module_version": "1.5.0",
            "_view_name": "HBoxView",
            "box_style": "",
            "children": [
              "IPY_MODEL_c6bdcfec360d43809462a4664fada9d7",
              "IPY_MODEL_210f89fd14dd43f2b23d99a4cb88c8f0",
              "IPY_MODEL_c43f5b5ed9794cb995d588ad445d1193"
            ],
            "layout": "IPY_MODEL_f840af2bb9bf454a98aa4e40beeb464c"
          }
        },
        "c6bdcfec360d43809462a4664fada9d7": {
          "model_module": "@jupyter-widgets/controls",
          "model_name": "HTMLModel",
          "model_module_version": "1.5.0",
          "state": {
            "_dom_classes": [],
            "_model_module": "@jupyter-widgets/controls",
            "_model_module_version": "1.5.0",
            "_model_name": "HTMLModel",
            "_view_count": null,
            "_view_module": "@jupyter-widgets/controls",
            "_view_module_version": "1.5.0",
            "_view_name": "HTMLView",
            "description": "",
            "description_tooltip": null,
            "layout": "IPY_MODEL_4f619f33af0c4759a3cd4836aa683757",
            "placeholder": "​",
            "style": "IPY_MODEL_ef209ee6e90f49208ccb31fc5b2ef5a0",
            "value": "tokenizer.json: 100%"
          }
        },
        "210f89fd14dd43f2b23d99a4cb88c8f0": {
          "model_module": "@jupyter-widgets/controls",
          "model_name": "FloatProgressModel",
          "model_module_version": "1.5.0",
          "state": {
            "_dom_classes": [],
            "_model_module": "@jupyter-widgets/controls",
            "_model_module_version": "1.5.0",
            "_model_name": "FloatProgressModel",
            "_view_count": null,
            "_view_module": "@jupyter-widgets/controls",
            "_view_module_version": "1.5.0",
            "_view_name": "ProgressView",
            "bar_style": "success",
            "description": "",
            "description_tooltip": null,
            "layout": "IPY_MODEL_721816dcd13a4d9ea816c94878566c89",
            "max": 1355863,
            "min": 0,
            "orientation": "horizontal",
            "style": "IPY_MODEL_9e35fd0a194441a3b77a0a41cb02b5d0",
            "value": 1355863
          }
        },
        "c43f5b5ed9794cb995d588ad445d1193": {
          "model_module": "@jupyter-widgets/controls",
          "model_name": "HTMLModel",
          "model_module_version": "1.5.0",
          "state": {
            "_dom_classes": [],
            "_model_module": "@jupyter-widgets/controls",
            "_model_module_version": "1.5.0",
            "_model_name": "HTMLModel",
            "_view_count": null,
            "_view_module": "@jupyter-widgets/controls",
            "_view_module_version": "1.5.0",
            "_view_name": "HTMLView",
            "description": "",
            "description_tooltip": null,
            "layout": "IPY_MODEL_f67286f1420a492f91c85b90692cd559",
            "placeholder": "​",
            "style": "IPY_MODEL_239df49136cc4b538d0434c5b35689d9",
            "value": " 1.36M/1.36M [00:00&lt;00:00, 3.03MB/s]"
          }
        },
        "f840af2bb9bf454a98aa4e40beeb464c": {
          "model_module": "@jupyter-widgets/base",
          "model_name": "LayoutModel",
          "model_module_version": "1.2.0",
          "state": {
            "_model_module": "@jupyter-widgets/base",
            "_model_module_version": "1.2.0",
            "_model_name": "LayoutModel",
            "_view_count": null,
            "_view_module": "@jupyter-widgets/base",
            "_view_module_version": "1.2.0",
            "_view_name": "LayoutView",
            "align_content": null,
            "align_items": null,
            "align_self": null,
            "border": null,
            "bottom": null,
            "display": null,
            "flex": null,
            "flex_flow": null,
            "grid_area": null,
            "grid_auto_columns": null,
            "grid_auto_flow": null,
            "grid_auto_rows": null,
            "grid_column": null,
            "grid_gap": null,
            "grid_row": null,
            "grid_template_areas": null,
            "grid_template_columns": null,
            "grid_template_rows": null,
            "height": null,
            "justify_content": null,
            "justify_items": null,
            "left": null,
            "margin": null,
            "max_height": null,
            "max_width": null,
            "min_height": null,
            "min_width": null,
            "object_fit": null,
            "object_position": null,
            "order": null,
            "overflow": null,
            "overflow_x": null,
            "overflow_y": null,
            "padding": null,
            "right": null,
            "top": null,
            "visibility": null,
            "width": null
          }
        },
        "4f619f33af0c4759a3cd4836aa683757": {
          "model_module": "@jupyter-widgets/base",
          "model_name": "LayoutModel",
          "model_module_version": "1.2.0",
          "state": {
            "_model_module": "@jupyter-widgets/base",
            "_model_module_version": "1.2.0",
            "_model_name": "LayoutModel",
            "_view_count": null,
            "_view_module": "@jupyter-widgets/base",
            "_view_module_version": "1.2.0",
            "_view_name": "LayoutView",
            "align_content": null,
            "align_items": null,
            "align_self": null,
            "border": null,
            "bottom": null,
            "display": null,
            "flex": null,
            "flex_flow": null,
            "grid_area": null,
            "grid_auto_columns": null,
            "grid_auto_flow": null,
            "grid_auto_rows": null,
            "grid_column": null,
            "grid_gap": null,
            "grid_row": null,
            "grid_template_areas": null,
            "grid_template_columns": null,
            "grid_template_rows": null,
            "height": null,
            "justify_content": null,
            "justify_items": null,
            "left": null,
            "margin": null,
            "max_height": null,
            "max_width": null,
            "min_height": null,
            "min_width": null,
            "object_fit": null,
            "object_position": null,
            "order": null,
            "overflow": null,
            "overflow_x": null,
            "overflow_y": null,
            "padding": null,
            "right": null,
            "top": null,
            "visibility": null,
            "width": null
          }
        },
        "ef209ee6e90f49208ccb31fc5b2ef5a0": {
          "model_module": "@jupyter-widgets/controls",
          "model_name": "DescriptionStyleModel",
          "model_module_version": "1.5.0",
          "state": {
            "_model_module": "@jupyter-widgets/controls",
            "_model_module_version": "1.5.0",
            "_model_name": "DescriptionStyleModel",
            "_view_count": null,
            "_view_module": "@jupyter-widgets/base",
            "_view_module_version": "1.2.0",
            "_view_name": "StyleView",
            "description_width": ""
          }
        },
        "721816dcd13a4d9ea816c94878566c89": {
          "model_module": "@jupyter-widgets/base",
          "model_name": "LayoutModel",
          "model_module_version": "1.2.0",
          "state": {
            "_model_module": "@jupyter-widgets/base",
            "_model_module_version": "1.2.0",
            "_model_name": "LayoutModel",
            "_view_count": null,
            "_view_module": "@jupyter-widgets/base",
            "_view_module_version": "1.2.0",
            "_view_name": "LayoutView",
            "align_content": null,
            "align_items": null,
            "align_self": null,
            "border": null,
            "bottom": null,
            "display": null,
            "flex": null,
            "flex_flow": null,
            "grid_area": null,
            "grid_auto_columns": null,
            "grid_auto_flow": null,
            "grid_auto_rows": null,
            "grid_column": null,
            "grid_gap": null,
            "grid_row": null,
            "grid_template_areas": null,
            "grid_template_columns": null,
            "grid_template_rows": null,
            "height": null,
            "justify_content": null,
            "justify_items": null,
            "left": null,
            "margin": null,
            "max_height": null,
            "max_width": null,
            "min_height": null,
            "min_width": null,
            "object_fit": null,
            "object_position": null,
            "order": null,
            "overflow": null,
            "overflow_x": null,
            "overflow_y": null,
            "padding": null,
            "right": null,
            "top": null,
            "visibility": null,
            "width": null
          }
        },
        "9e35fd0a194441a3b77a0a41cb02b5d0": {
          "model_module": "@jupyter-widgets/controls",
          "model_name": "ProgressStyleModel",
          "model_module_version": "1.5.0",
          "state": {
            "_model_module": "@jupyter-widgets/controls",
            "_model_module_version": "1.5.0",
            "_model_name": "ProgressStyleModel",
            "_view_count": null,
            "_view_module": "@jupyter-widgets/base",
            "_view_module_version": "1.2.0",
            "_view_name": "StyleView",
            "bar_color": null,
            "description_width": ""
          }
        },
        "f67286f1420a492f91c85b90692cd559": {
          "model_module": "@jupyter-widgets/base",
          "model_name": "LayoutModel",
          "model_module_version": "1.2.0",
          "state": {
            "_model_module": "@jupyter-widgets/base",
            "_model_module_version": "1.2.0",
            "_model_name": "LayoutModel",
            "_view_count": null,
            "_view_module": "@jupyter-widgets/base",
            "_view_module_version": "1.2.0",
            "_view_name": "LayoutView",
            "align_content": null,
            "align_items": null,
            "align_self": null,
            "border": null,
            "bottom": null,
            "display": null,
            "flex": null,
            "flex_flow": null,
            "grid_area": null,
            "grid_auto_columns": null,
            "grid_auto_flow": null,
            "grid_auto_rows": null,
            "grid_column": null,
            "grid_gap": null,
            "grid_row": null,
            "grid_template_areas": null,
            "grid_template_columns": null,
            "grid_template_rows": null,
            "height": null,
            "justify_content": null,
            "justify_items": null,
            "left": null,
            "margin": null,
            "max_height": null,
            "max_width": null,
            "min_height": null,
            "min_width": null,
            "object_fit": null,
            "object_position": null,
            "order": null,
            "overflow": null,
            "overflow_x": null,
            "overflow_y": null,
            "padding": null,
            "right": null,
            "top": null,
            "visibility": null,
            "width": null
          }
        },
        "239df49136cc4b538d0434c5b35689d9": {
          "model_module": "@jupyter-widgets/controls",
          "model_name": "DescriptionStyleModel",
          "model_module_version": "1.5.0",
          "state": {
            "_model_module": "@jupyter-widgets/controls",
            "_model_module_version": "1.5.0",
            "_model_name": "DescriptionStyleModel",
            "_view_count": null,
            "_view_module": "@jupyter-widgets/base",
            "_view_module_version": "1.2.0",
            "_view_name": "StyleView",
            "description_width": ""
          }
        },
        "1f32295d3ccf4751a373c6ef79eaa787": {
          "model_module": "@jupyter-widgets/controls",
          "model_name": "HBoxModel",
          "model_module_version": "1.5.0",
          "state": {
            "_dom_classes": [],
            "_model_module": "@jupyter-widgets/controls",
            "_model_module_version": "1.5.0",
            "_model_name": "HBoxModel",
            "_view_count": null,
            "_view_module": "@jupyter-widgets/controls",
            "_view_module_version": "1.5.0",
            "_view_name": "HBoxView",
            "box_style": "",
            "children": [
              "IPY_MODEL_f9f38498f1fe4df287a3f610b07897e7",
              "IPY_MODEL_cb7d90f876f34d3b9b0ac04429a63add",
              "IPY_MODEL_cf6b8bb34f4643c7bb7775d5abcbbcb6"
            ],
            "layout": "IPY_MODEL_d5a85fbe55bb4a1993a3f4f1428b2ebe"
          }
        },
        "f9f38498f1fe4df287a3f610b07897e7": {
          "model_module": "@jupyter-widgets/controls",
          "model_name": "HTMLModel",
          "model_module_version": "1.5.0",
          "state": {
            "_dom_classes": [],
            "_model_module": "@jupyter-widgets/controls",
            "_model_module_version": "1.5.0",
            "_model_name": "HTMLModel",
            "_view_count": null,
            "_view_module": "@jupyter-widgets/controls",
            "_view_module_version": "1.5.0",
            "_view_name": "HTMLView",
            "description": "",
            "description_tooltip": null,
            "layout": "IPY_MODEL_317de1dcab754a9896e0199834d50678",
            "placeholder": "​",
            "style": "IPY_MODEL_1a3b271ff9584135a120ff0ebc27bca0",
            "value": "model.safetensors: 100%"
          }
        },
        "cb7d90f876f34d3b9b0ac04429a63add": {
          "model_module": "@jupyter-widgets/controls",
          "model_name": "FloatProgressModel",
          "model_module_version": "1.5.0",
          "state": {
            "_dom_classes": [],
            "_model_module": "@jupyter-widgets/controls",
            "_model_module_version": "1.5.0",
            "_model_name": "FloatProgressModel",
            "_view_count": null,
            "_view_module": "@jupyter-widgets/controls",
            "_view_module_version": "1.5.0",
            "_view_name": "ProgressView",
            "bar_style": "success",
            "description": "",
            "description_tooltip": null,
            "layout": "IPY_MODEL_f1c029fc0e9f447fb45d10f6c6fb53f3",
            "max": 557709915,
            "min": 0,
            "orientation": "horizontal",
            "style": "IPY_MODEL_cc413ec143a64359bd54398cc15c463b",
            "value": 557709915
          }
        },
        "cf6b8bb34f4643c7bb7775d5abcbbcb6": {
          "model_module": "@jupyter-widgets/controls",
          "model_name": "HTMLModel",
          "model_module_version": "1.5.0",
          "state": {
            "_dom_classes": [],
            "_model_module": "@jupyter-widgets/controls",
            "_model_module_version": "1.5.0",
            "_model_name": "HTMLModel",
            "_view_count": null,
            "_view_module": "@jupyter-widgets/controls",
            "_view_module_version": "1.5.0",
            "_view_name": "HTMLView",
            "description": "",
            "description_tooltip": null,
            "layout": "IPY_MODEL_04b8c7fffaee4578b4b69174a9f20088",
            "placeholder": "​",
            "style": "IPY_MODEL_cea9c89bd06f4f76b06a3dbe050ae0ba",
            "value": " 558M/558M [00:01&lt;00:00, 420MB/s]"
          }
        },
        "d5a85fbe55bb4a1993a3f4f1428b2ebe": {
          "model_module": "@jupyter-widgets/base",
          "model_name": "LayoutModel",
          "model_module_version": "1.2.0",
          "state": {
            "_model_module": "@jupyter-widgets/base",
            "_model_module_version": "1.2.0",
            "_model_name": "LayoutModel",
            "_view_count": null,
            "_view_module": "@jupyter-widgets/base",
            "_view_module_version": "1.2.0",
            "_view_name": "LayoutView",
            "align_content": null,
            "align_items": null,
            "align_self": null,
            "border": null,
            "bottom": null,
            "display": null,
            "flex": null,
            "flex_flow": null,
            "grid_area": null,
            "grid_auto_columns": null,
            "grid_auto_flow": null,
            "grid_auto_rows": null,
            "grid_column": null,
            "grid_gap": null,
            "grid_row": null,
            "grid_template_areas": null,
            "grid_template_columns": null,
            "grid_template_rows": null,
            "height": null,
            "justify_content": null,
            "justify_items": null,
            "left": null,
            "margin": null,
            "max_height": null,
            "max_width": null,
            "min_height": null,
            "min_width": null,
            "object_fit": null,
            "object_position": null,
            "order": null,
            "overflow": null,
            "overflow_x": null,
            "overflow_y": null,
            "padding": null,
            "right": null,
            "top": null,
            "visibility": null,
            "width": null
          }
        },
        "317de1dcab754a9896e0199834d50678": {
          "model_module": "@jupyter-widgets/base",
          "model_name": "LayoutModel",
          "model_module_version": "1.2.0",
          "state": {
            "_model_module": "@jupyter-widgets/base",
            "_model_module_version": "1.2.0",
            "_model_name": "LayoutModel",
            "_view_count": null,
            "_view_module": "@jupyter-widgets/base",
            "_view_module_version": "1.2.0",
            "_view_name": "LayoutView",
            "align_content": null,
            "align_items": null,
            "align_self": null,
            "border": null,
            "bottom": null,
            "display": null,
            "flex": null,
            "flex_flow": null,
            "grid_area": null,
            "grid_auto_columns": null,
            "grid_auto_flow": null,
            "grid_auto_rows": null,
            "grid_column": null,
            "grid_gap": null,
            "grid_row": null,
            "grid_template_areas": null,
            "grid_template_columns": null,
            "grid_template_rows": null,
            "height": null,
            "justify_content": null,
            "justify_items": null,
            "left": null,
            "margin": null,
            "max_height": null,
            "max_width": null,
            "min_height": null,
            "min_width": null,
            "object_fit": null,
            "object_position": null,
            "order": null,
            "overflow": null,
            "overflow_x": null,
            "overflow_y": null,
            "padding": null,
            "right": null,
            "top": null,
            "visibility": null,
            "width": null
          }
        },
        "1a3b271ff9584135a120ff0ebc27bca0": {
          "model_module": "@jupyter-widgets/controls",
          "model_name": "DescriptionStyleModel",
          "model_module_version": "1.5.0",
          "state": {
            "_model_module": "@jupyter-widgets/controls",
            "_model_module_version": "1.5.0",
            "_model_name": "DescriptionStyleModel",
            "_view_count": null,
            "_view_module": "@jupyter-widgets/base",
            "_view_module_version": "1.2.0",
            "_view_name": "StyleView",
            "description_width": ""
          }
        },
        "f1c029fc0e9f447fb45d10f6c6fb53f3": {
          "model_module": "@jupyter-widgets/base",
          "model_name": "LayoutModel",
          "model_module_version": "1.2.0",
          "state": {
            "_model_module": "@jupyter-widgets/base",
            "_model_module_version": "1.2.0",
            "_model_name": "LayoutModel",
            "_view_count": null,
            "_view_module": "@jupyter-widgets/base",
            "_view_module_version": "1.2.0",
            "_view_name": "LayoutView",
            "align_content": null,
            "align_items": null,
            "align_self": null,
            "border": null,
            "bottom": null,
            "display": null,
            "flex": null,
            "flex_flow": null,
            "grid_area": null,
            "grid_auto_columns": null,
            "grid_auto_flow": null,
            "grid_auto_rows": null,
            "grid_column": null,
            "grid_gap": null,
            "grid_row": null,
            "grid_template_areas": null,
            "grid_template_columns": null,
            "grid_template_rows": null,
            "height": null,
            "justify_content": null,
            "justify_items": null,
            "left": null,
            "margin": null,
            "max_height": null,
            "max_width": null,
            "min_height": null,
            "min_width": null,
            "object_fit": null,
            "object_position": null,
            "order": null,
            "overflow": null,
            "overflow_x": null,
            "overflow_y": null,
            "padding": null,
            "right": null,
            "top": null,
            "visibility": null,
            "width": null
          }
        },
        "cc413ec143a64359bd54398cc15c463b": {
          "model_module": "@jupyter-widgets/controls",
          "model_name": "ProgressStyleModel",
          "model_module_version": "1.5.0",
          "state": {
            "_model_module": "@jupyter-widgets/controls",
            "_model_module_version": "1.5.0",
            "_model_name": "ProgressStyleModel",
            "_view_count": null,
            "_view_module": "@jupyter-widgets/base",
            "_view_module_version": "1.2.0",
            "_view_name": "StyleView",
            "bar_color": null,
            "description_width": ""
          }
        },
        "04b8c7fffaee4578b4b69174a9f20088": {
          "model_module": "@jupyter-widgets/base",
          "model_name": "LayoutModel",
          "model_module_version": "1.2.0",
          "state": {
            "_model_module": "@jupyter-widgets/base",
            "_model_module_version": "1.2.0",
            "_model_name": "LayoutModel",
            "_view_count": null,
            "_view_module": "@jupyter-widgets/base",
            "_view_module_version": "1.2.0",
            "_view_name": "LayoutView",
            "align_content": null,
            "align_items": null,
            "align_self": null,
            "border": null,
            "bottom": null,
            "display": null,
            "flex": null,
            "flex_flow": null,
            "grid_area": null,
            "grid_auto_columns": null,
            "grid_auto_flow": null,
            "grid_auto_rows": null,
            "grid_column": null,
            "grid_gap": null,
            "grid_row": null,
            "grid_template_areas": null,
            "grid_template_columns": null,
            "grid_template_rows": null,
            "height": null,
            "justify_content": null,
            "justify_items": null,
            "left": null,
            "margin": null,
            "max_height": null,
            "max_width": null,
            "min_height": null,
            "min_width": null,
            "object_fit": null,
            "object_position": null,
            "order": null,
            "overflow": null,
            "overflow_x": null,
            "overflow_y": null,
            "padding": null,
            "right": null,
            "top": null,
            "visibility": null,
            "width": null
          }
        },
        "cea9c89bd06f4f76b06a3dbe050ae0ba": {
          "model_module": "@jupyter-widgets/controls",
          "model_name": "DescriptionStyleModel",
          "model_module_version": "1.5.0",
          "state": {
            "_model_module": "@jupyter-widgets/controls",
            "_model_module_version": "1.5.0",
            "_model_name": "DescriptionStyleModel",
            "_view_count": null,
            "_view_module": "@jupyter-widgets/base",
            "_view_module_version": "1.2.0",
            "_view_name": "StyleView",
            "description_width": ""
          }
        }
      }
    }
  },
  "cells": [
    {
      "cell_type": "code",
      "execution_count": 1,
      "metadata": {
        "colab": {
          "base_uri": "https://localhost:8080/"
        },
        "id": "w22tECCkM9Me",
        "outputId": "04ad39f3-f5e1-4cd0-84eb-c82c5be432fa"
      },
      "outputs": [
        {
          "output_type": "stream",
          "name": "stdout",
          "text": [
            "Requirement already satisfied: transformers in /usr/local/lib/python3.10/dist-packages (4.35.2)\n",
            "Requirement already satisfied: filelock in /usr/local/lib/python3.10/dist-packages (from transformers) (3.13.1)\n",
            "Requirement already satisfied: huggingface-hub<1.0,>=0.16.4 in /usr/local/lib/python3.10/dist-packages (from transformers) (0.19.4)\n",
            "Requirement already satisfied: numpy>=1.17 in /usr/local/lib/python3.10/dist-packages (from transformers) (1.23.5)\n",
            "Requirement already satisfied: packaging>=20.0 in /usr/local/lib/python3.10/dist-packages (from transformers) (23.2)\n",
            "Requirement already satisfied: pyyaml>=5.1 in /usr/local/lib/python3.10/dist-packages (from transformers) (6.0.1)\n",
            "Requirement already satisfied: regex!=2019.12.17 in /usr/local/lib/python3.10/dist-packages (from transformers) (2023.6.3)\n",
            "Requirement already satisfied: requests in /usr/local/lib/python3.10/dist-packages (from transformers) (2.31.0)\n",
            "Requirement already satisfied: tokenizers<0.19,>=0.14 in /usr/local/lib/python3.10/dist-packages (from transformers) (0.15.0)\n",
            "Requirement already satisfied: safetensors>=0.3.1 in /usr/local/lib/python3.10/dist-packages (from transformers) (0.4.1)\n",
            "Requirement already satisfied: tqdm>=4.27 in /usr/local/lib/python3.10/dist-packages (from transformers) (4.66.1)\n",
            "Requirement already satisfied: fsspec>=2023.5.0 in /usr/local/lib/python3.10/dist-packages (from huggingface-hub<1.0,>=0.16.4->transformers) (2023.6.0)\n",
            "Requirement already satisfied: typing-extensions>=3.7.4.3 in /usr/local/lib/python3.10/dist-packages (from huggingface-hub<1.0,>=0.16.4->transformers) (4.5.0)\n",
            "Requirement already satisfied: charset-normalizer<4,>=2 in /usr/local/lib/python3.10/dist-packages (from requests->transformers) (3.3.2)\n",
            "Requirement already satisfied: idna<4,>=2.5 in /usr/local/lib/python3.10/dist-packages (from requests->transformers) (3.6)\n",
            "Requirement already satisfied: urllib3<3,>=1.21.1 in /usr/local/lib/python3.10/dist-packages (from requests->transformers) (2.0.7)\n",
            "Requirement already satisfied: certifi>=2017.4.17 in /usr/local/lib/python3.10/dist-packages (from requests->transformers) (2023.11.17)\n"
          ]
        }
      ],
      "source": [
        " !pip install transformers"
      ]
    },
    {
      "cell_type": "code",
      "source": [
        "from google.colab import drive\n",
        "drive.mount('/content/gdrive', force_remount=True)"
      ],
      "metadata": {
        "colab": {
          "base_uri": "https://localhost:8080/"
        },
        "id": "dzI5_eO6Q2fR",
        "outputId": "56b3c502-3fef-41bb-8028-dcf8603f66b5"
      },
      "execution_count": 2,
      "outputs": [
        {
          "output_type": "stream",
          "name": "stdout",
          "text": [
            "Mounted at /content/gdrive\n"
          ]
        }
      ]
    },
    {
      "cell_type": "code",
      "source": [
        "%cd /content/gdrive/MyDrive/GPT\n",
        "\n",
        "!ls"
      ],
      "metadata": {
        "colab": {
          "base_uri": "https://localhost:8080/"
        },
        "id": "NKaOcFiMQ3wz",
        "outputId": "d2cd8c8f-de65-4ed0-98d1-fcbf2257e4c6"
      },
      "execution_count": 3,
      "outputs": [
        {
          "output_type": "stream",
          "name": "stdout",
          "text": [
            "/content/gdrive/MyDrive/GPT\n",
            "dev_convert_14res.json\tsummary_2.pth  summary_4.pth  test_convert_14res.json\n",
            "GPT_cuda_2.ipynb\tsummary_3.pth  summary.pth    train_convert_14res.json\n"
          ]
        }
      ]
    },
    {
      "cell_type": "code",
      "execution_count": 4,
      "metadata": {
        "id": "fzYUSctY509G"
      },
      "outputs": [],
      "source": [
        "import json\n",
        "import pandas as pd\n",
        "from transformers import AutoTokenizer"
      ]
    },
    {
      "cell_type": "code",
      "source": [
        "tokenizer = AutoTokenizer.from_pretrained(\"facebook/bart-base\")\n",
        "\n",
        "pol_dict = {'POS' : [42740,-1], 'NEU' : [5054,-2], 'NEG': [9009,-3]}"
      ],
      "metadata": {
        "id": "kpYEigjoi-0M",
        "colab": {
          "base_uri": "https://localhost:8080/",
          "height": 145,
          "referenced_widgets": [
            "cf6afb876cc54d4a8c3f295a2a44db09",
            "4836a5c794d648228a5c26a6d12600d9",
            "66bc8786cdba4a29a08a5c3369d0e0ab",
            "db8faee6c4534aaf93e9872665849fe9",
            "2309daace2bf43d4a87b422a38a0d727",
            "f7bd9f5d77c34de8b154a64b2fd1ff73",
            "4ace0e900f6f47e19256bd61aa601e50",
            "cdcc19cf6fd14dcba95ab3c725b0b01f",
            "4af3bd28b21143b6bc1e6de7823612e1",
            "b89b7426756449cf8089707a5e60d88f",
            "9313cd5851374715b7e852401c074f96",
            "a2141c80ca824c4195cb3bf3d6182ba2",
            "8543356d3eeb492d9efba3920bbf7f91",
            "857904fa9c374ea6b23f454938a77b0a",
            "9a2e18b79cd14b86b1f0864542f97aaf",
            "5d61826ed0aa42ec8e09a181a67fdce3",
            "63a49e881d134f508cd8d7db565df623",
            "ff85fb842e3942038836e0824ccdd2bb",
            "b77d29429e2c4779b6c192bcfe0d4883",
            "45d1d932c4534de180776b57349594db",
            "2337b6e74e0d4799afc197896163bda4",
            "946338e843114dbea9a1175ffd3be622",
            "af2b29b91bca4c6fbe297801fdb2dc14",
            "2f56f69814654467a3bc159710adf5ae",
            "0f8398e897d94f028c613a17146bf824",
            "59c29d317fdc432eb234b5611b206cdb",
            "7ac1e5ac79834c6497493a08c52a09ca",
            "f1e851d7de8b4c2d9f89cfd4f4ece9da",
            "f3b7a0744a14426ca7871018f36d83aa",
            "99bc6d9570644e948a69748898e11366",
            "ce940e861a0b425eb4b3c3e89eea67c4",
            "f53c3bca1d824f19ac4cf064dc52cf40",
            "e412fc4ef617474a8f1c3b346d73efa0",
            "42c494c855c548099ceaeb10d7795421",
            "c6bdcfec360d43809462a4664fada9d7",
            "210f89fd14dd43f2b23d99a4cb88c8f0",
            "c43f5b5ed9794cb995d588ad445d1193",
            "f840af2bb9bf454a98aa4e40beeb464c",
            "4f619f33af0c4759a3cd4836aa683757",
            "ef209ee6e90f49208ccb31fc5b2ef5a0",
            "721816dcd13a4d9ea816c94878566c89",
            "9e35fd0a194441a3b77a0a41cb02b5d0",
            "f67286f1420a492f91c85b90692cd559",
            "239df49136cc4b538d0434c5b35689d9"
          ]
        },
        "outputId": "da8771a5-5f51-479c-a725-1fb58d77c010"
      },
      "execution_count": 5,
      "outputs": [
        {
          "output_type": "display_data",
          "data": {
            "text/plain": [
              "config.json:   0%|          | 0.00/1.72k [00:00<?, ?B/s]"
            ],
            "application/vnd.jupyter.widget-view+json": {
              "version_major": 2,
              "version_minor": 0,
              "model_id": "cf6afb876cc54d4a8c3f295a2a44db09"
            }
          },
          "metadata": {}
        },
        {
          "output_type": "display_data",
          "data": {
            "text/plain": [
              "vocab.json:   0%|          | 0.00/899k [00:00<?, ?B/s]"
            ],
            "application/vnd.jupyter.widget-view+json": {
              "version_major": 2,
              "version_minor": 0,
              "model_id": "a2141c80ca824c4195cb3bf3d6182ba2"
            }
          },
          "metadata": {}
        },
        {
          "output_type": "display_data",
          "data": {
            "text/plain": [
              "merges.txt:   0%|          | 0.00/456k [00:00<?, ?B/s]"
            ],
            "application/vnd.jupyter.widget-view+json": {
              "version_major": 2,
              "version_minor": 0,
              "model_id": "af2b29b91bca4c6fbe297801fdb2dc14"
            }
          },
          "metadata": {}
        },
        {
          "output_type": "display_data",
          "data": {
            "text/plain": [
              "tokenizer.json:   0%|          | 0.00/1.36M [00:00<?, ?B/s]"
            ],
            "application/vnd.jupyter.widget-view+json": {
              "version_major": 2,
              "version_minor": 0,
              "model_id": "42c494c855c548099ceaeb10d7795421"
            }
          },
          "metadata": {}
        }
      ]
    },
    {
      "cell_type": "code",
      "execution_count": 6,
      "metadata": {
        "id": "Z5kmWiVxEDMo"
      },
      "outputs": [],
      "source": [
        "#Aspect extraction AE\n",
        "\n",
        "def load_data(path, tokenizer, polarity_token_dict):\n",
        "# Abra o arquivo JSON e carregue seu conteúdo\n",
        "    with open(path, 'r') as arquivo:\n",
        "        data = json.load(arquivo)\n",
        "\n",
        "    # Crie uma lista para armazenar as strings de \"raw_words\". Será input encoder apos tokenização\n",
        "    total_frases = []\n",
        "\n",
        "    # Crie uma lista para armazenar os tokens de aspectos, sentimentos e opinioes.\n",
        "    total_obj = []\n",
        "\n",
        "    # Crie uma lista para armazenar as posições. Será input loss apos transformar posicao de opinioes.\n",
        "    total_pos = []\n",
        "\n",
        "    # Itere sobre os registros no JSON e adicione as strings à lista\n",
        "    for registro in data:\n",
        "        # Adiciona frase\n",
        "        seq = registro['raw_words']\n",
        "        total_frases.append(seq)\n",
        "\n",
        "        #Cria lista com posicoes inicial e final de tokens para todas as palavras da frase\n",
        "        frase_len = 0\n",
        "        tokens_pos = []\n",
        "        words = registro['words']\n",
        "\n",
        "        for wrd in words:\n",
        "          if len(tokens_pos)>0:\n",
        "            wrd_tkn = tokenizer(' ' + wrd)['input_ids']\n",
        "          else:\n",
        "            wrd_tkn = tokenizer(wrd)['input_ids']\n",
        "\n",
        "          wrd_len = len(wrd_tkn)-2\n",
        "          tokens_pos.append([frase_len + 1, frase_len + wrd_len])\n",
        "          frase_len += wrd_len #Tira token de comecco e fim\n",
        "\n",
        "        #Obtem tokens e posicoes para aspectos/sentimentos\n",
        "        aspects = registro['aspects']\n",
        "        opinions = registro['opinions']\n",
        "\n",
        "        tkn_list = [0] #lista de tokens, comeca com token de inicio\n",
        "        pos_list = [] #lista de posicoes\n",
        "\n",
        "        for i in range(len(aspects)):\n",
        "          if len(aspects[i]['term'])>0:\n",
        "\n",
        "            #ASPECTOS\n",
        "            #Obtem posicoes aspectos\n",
        "            start_aspect_word_pos = aspects[i].get('from') #posicoes das palavras\n",
        "            end_aspect_word_pos = aspects[i].get('to')-1\n",
        "\n",
        "            start_aspect_token_pos = tokens_pos[start_aspect_word_pos][0] #posicoes dos tokens\n",
        "            end_aspect_token_pos = tokens_pos[end_aspect_word_pos][1]\n",
        "\n",
        "            #Obtem tokens aspectos\n",
        "            start_wrd = aspects[i].get('term')[0]\n",
        "            end_wrd = aspects[i].get('term')[-1]\n",
        "\n",
        "            if start_aspect_word_pos > 0:     #coloca espacos\n",
        "              start_aspect_tkn = tokenizer(' ' + start_wrd)['input_ids'][1]\n",
        "            else:\n",
        "              start_aspect_tkn = tokenizer(start_wrd)['input_ids'][1]\n",
        "\n",
        "            if end_aspect_word_pos > 0:     #coloca espacos\n",
        "              end_aspect_tkn = tokenizer(' ' +end_wrd)['input_ids'][-2]\n",
        "            else:\n",
        "              end_aspect_tkn = tokenizer(end_wrd)['input_ids'][-2]\n",
        "\n",
        "\n",
        "\n",
        "            #Obtem sentimentos\n",
        "            pol = aspects[i].get('polarity', None)\n",
        "            pol_tkn = polarity_token_dict.get(pol)[0] #Token de polaridade a partir de dicionario\n",
        "            pol_pos = polarity_token_dict.get(pol)[1]\n",
        "\n",
        "            #Adiciona tokens e posicoes\n",
        "\n",
        "            #Tratar os casos que o aspecto se repete\n",
        "            if start_aspect_tkn not in tkn_list and end_aspect_tkn not in tkn_list:\n",
        "                tkn_list.append(start_aspect_tkn)\n",
        "                tkn_list.append(end_aspect_tkn)\n",
        "                tkn_list.append(pol_tkn)\n",
        "\n",
        "                pos_list.append(start_aspect_token_pos)\n",
        "                pos_list.append(end_aspect_token_pos)\n",
        "                pos_list.append(pol_pos)\n",
        "\n",
        "        #Adiciona token de final nas listas\n",
        "        tkn_list.append(2)\n",
        "        pos_list.append(frase_len+1)\n",
        "\n",
        "        #Atualiza listas\n",
        "        total_obj.append(tkn_list)\n",
        "        total_pos.append(pos_list)\n",
        "\n",
        "    return total_frases, total_obj, total_pos\n",
        "\n"
      ]
    },
    {
      "cell_type": "code",
      "source": [
        "# Especifique o caminho para o arquivo JSON\n",
        "path_train = 'train_convert_14res.json'\n",
        "\n",
        "train_frase, train_tkns, train_pos = load_data(path_train,tokenizer,pol_dict)\n",
        "\n",
        "path_dev = 'dev_convert_14res.json'\n",
        "\n",
        "dev_frase, dev_tkns, dev_pos = load_data(path_dev,tokenizer,pol_dict)\n"
      ],
      "metadata": {
        "id": "wI3B6Ww_3ZAy"
      },
      "execution_count": 7,
      "outputs": []
    },
    {
      "cell_type": "code",
      "source": [
        "train_pos[0]"
      ],
      "metadata": {
        "id": "kQvlZDsAkNBf",
        "colab": {
          "base_uri": "https://localhost:8080/"
        },
        "outputId": "5f18d707-adbe-42aa-d57e-7e81312af5f3"
      },
      "execution_count": 8,
      "outputs": [
        {
          "output_type": "execute_result",
          "data": {
            "text/plain": [
              "[3, 3, -3, 10]"
            ]
          },
          "metadata": {},
          "execution_count": 8
        }
      ]
    },
    {
      "cell_type": "code",
      "source": [
        "train_frase[0]"
      ],
      "metadata": {
        "colab": {
          "base_uri": "https://localhost:8080/",
          "height": 36
        },
        "id": "Ci73mEbl4WSn",
        "outputId": "fab4160f-d850-42c5-bd22-54505dd4f852"
      },
      "execution_count": 9,
      "outputs": [
        {
          "output_type": "execute_result",
          "data": {
            "text/plain": [
              "'But the staff was so horrible to us .'"
            ],
            "application/vnd.google.colaboratory.intrinsic+json": {
              "type": "string"
            }
          },
          "metadata": {},
          "execution_count": 9
        }
      ]
    },
    {
      "cell_type": "markdown",
      "source": [
        "Fazer padding tokens\n",
        "\n",
        "Tranformacao + pad sequencia"
      ],
      "metadata": {
        "id": "DOEhLxf-QwN5"
      }
    },
    {
      "cell_type": "code",
      "source": [
        "import torch"
      ],
      "metadata": {
        "id": "SJZDvOPviz9N"
      },
      "execution_count": 10,
      "outputs": []
    },
    {
      "cell_type": "code",
      "source": [
        "from torch.utils.data import DataLoader,Dataset\n",
        "class absadataset(Dataset):\n",
        "    def __init__(self,frases, tokens , indexes):\n",
        "        self.frases = [i for i in frases]\n",
        "        self.tokens = self.token_padding(tokens)\n",
        "        self.indexes = self.indexes_padding(indexes)\n",
        "        #self.indexes_mask =\n",
        "    def __getitem__(self,index):\n",
        "        return self.frases[index],self.tokens[index],self.indexes[index]#,self.indexes_mask[index]\n",
        "\n",
        "    def __len__(self):\n",
        "        return len(self.indexes)\n",
        "\n",
        "    def token_padding(self, token_list):\n",
        "        max_tkn_len = max(len(i) for i in token_list)\n",
        "        tkn = []\n",
        "        for i in token_list:\n",
        "          padded = torch.ones(max_tkn_len, dtype = torch.long)\n",
        "          padded[0:len(i)] = torch.Tensor(i)\n",
        "          tkn.append(padded.detach().clone())\n",
        "        return tkn\n",
        "\n",
        "    def indexes_padding(self, index_list):\n",
        "        max_idx_len = max(len(i) for i in index_list)\n",
        "        idxs = []\n",
        "        for i in index_list:\n",
        "          #mapa classes\n",
        "          \"\"\"\n",
        "          for j in range(len(i)):\n",
        "            if i[j]==-1:\n",
        "              i[j] = max_idx_len + 1\n",
        "            elif i[j]==-2:\n",
        "              i[j] = max_idx_len + 2\n",
        "            elif i[j]==-3:\n",
        "              i[j] = max_idx_len + 3\"\"\"\n",
        "\n",
        "          padded = torch.zeros(max_idx_len + 1, dtype = torch.long)\n",
        "          padded[0:len(i)] = torch.LongTensor(i)\n",
        "          idxs.append(padded.detach().clone())\n",
        "        return idxs\n"
      ],
      "metadata": {
        "id": "CTQxzGU4RD1m"
      },
      "execution_count": 11,
      "outputs": []
    },
    {
      "cell_type": "code",
      "source": [
        "train_data = absadataset(train_frase, train_tkns, train_pos)\n",
        "train_datapack = DataLoader(train_data,batch_size=64,shuffle=True)\n",
        "\n",
        "dev_data = absadataset(dev_frase, dev_tkns, dev_pos)\n",
        "dev_datapack = DataLoader(dev_data,batch_size=64,shuffle=True)"
      ],
      "metadata": {
        "id": "p4ZX63GbgVDb"
      },
      "execution_count": 12,
      "outputs": []
    },
    {
      "cell_type": "code",
      "source": [
        "for a,b,c in train_datapack:\n",
        "  print(a)\n",
        "  break"
      ],
      "metadata": {
        "colab": {
          "base_uri": "https://localhost:8080/"
        },
        "id": "PPZkmP0nSf57",
        "outputId": "3ec002cb-a406-41ca-8dfb-3462aa799311"
      },
      "execution_count": 13,
      "outputs": [
        {
          "output_type": "stream",
          "name": "stdout",
          "text": [
            "(\"I had a terrific meal , and our server guided us toward a very nice wine in our price range , instead of allowing us to purchase a similarly priced wine that was n't as good .\", 'Pizza here is consistently good .', 'The manager claimed that he could not compensate us for anything on the bill which just shows the lack of sophistication from the entire group .', 'Food was good and the view of the new york city skiline was terrific even on a foggy rainy day like that of when I went .', 'The portions are small but being that the food was so good makes up for that .', 'We thought that this place is using too much of MSG cooking in the foods .', \"The place 's decor and hidden bathrooms made for a good laugh .\", 'I think the stuff was better than Disney .', 'The food was mediocre at best but it was the horrible service that made me vow never to go back .', 'Pizza - the only pizza in NYC that should not have additional toppings - the crust tastes like the best , freshly baked bread !', 'We figured we never had Argentinian Pizza before so we grabbed our lunch there , sharing a large Pelligrino , a pizza of two of their specials , one was goat cheese the other blue cheese , and both were excellent .', 'The food there is so good that even to order out the wait is incredible .', 'Cheese plate is a varied delight and great bargain at $ 10 .', 'He takes real pride in his food and his business .', 'bottles of wine are cheap and good .', \"The food is uniformly exceptional , with a very capable kitchen which will proudly whip up whatever you feel like eating , whether it 's on the menu or not .\", 'The decor is really blah , and not at all hip or happening .', \"While the room is not particularly comfortable , once you 're seated you 'll forget about everything except what 's on your plate .\", \"One would think we 'd get an apology or complimentary drinks - instead , we got a snobby waiter would n't even take our order for 15 minutes and gave us lip when we asked him to do so .\", \"When he finally did , he was unable to make a gin and tonic -- could n't find tonic .\", \"The cuisine from what I 've gathered is authentic Taiwanese , though its very different from what I 've been accustomed to in Taipei .\", 'My husband and I enjoyed each of the 6 taste size portions and left completely full .', 'The Yellowtail was particularly good as well .', 'We went to eat at the Jekyll and Hyde restaurant on Friday night and really enjoyed the fun atmosphere and good food .', \"The food is very good for it 's price , better than most fried dumplings I 've had .\", 'The staff was knowledgeable and full of personality .', 'We always have a delicious meal and always leave feeling satisfied .', \"The Pad thai , lad nar and various other dishes all look good on paper but , I 've had better thai food in less asthetically pleasing places .\", \"With so many good restaurants on the UWS , I do n't need overpriced food , absurdly arrogant wait-staff who do n't recognize they work at a glorified diner , clumsy service , and management that does n't care .\", 'The best thing I tasted were the lambchops .', 'While most people can attest to spending over $ 50 on drinks in New York bars and hardly feeling a thing , the drinks here are plentiful and unique .', \"Here 's to the fake fish tanks too ...\", 'I have to say I have never had a disapointing meal here .', 'IT is the best deal in town for a Monday night dinner at a fine restaurant .', 'We had a 3 hour brunch- they definitely do not rush you- and they kept the unlimited mimosas flowing the whole time .', \"I 've never had bad service and the fish is fresh and delicious .\", 'The price was extremely reasonable for the appetizers and food we ate .', \"The waiters and owners were nonchalant about this and promised to call the exterminator but were n't as dismayed or apologetic as I would have expected .\", 'If the omakase is to showcase technique and variety , serving almost 40 % of items BBQ-ed and a spicy tuna roll wrapped with not-so-fresh nori seems to be a rather limp performance .', 'The food is yummy , especially their cooked-to-perfection mussels in spicy tomato sauce and their shoestring crispy fries .', 'You will pay a lot for the decore , but the food is no better or worse than a lot of other Chinese and Asian fusion places in NY .', 'Its a nice quiet location to go eat a good meal , relax , be able to talk and have a very good time .', 'Ambiance is barely romantic but management tries .', 'The soup is pretty good too .', 'Until you realize that their five minutes is meaningless and your wait may be anywhere from two to twenty minutes it may be frustrating .', 'Good food at the restaurant ( a bit expensive , but great if you want to impress your date ) .', 'The staff was very attentive , the ambience lovely , and the food superb .', 'The food is wonderful , tasty and filling , and the service is professional and friendly .', \"In fact , while leaving the place we saw two people looking at the menu , and I could n't help telling them that the food was horrible .\", 'Quality of food is excellent and price is cheap , stick to pork , fish , chicken , lamb and vegetables .', \"The one vegetarian entree ( Abby 's treasure ) was actually quite a surprise - it was delicious and had wintermelon covering an assortment of fresh mushrooms and vegetables .\", 'By far , the best pizza in Manhattan .', \"If I wanted to deal with a crappy scene and annoying customers I 'd go out in Manhattan .\", 'The bruscetta is a bit soggy , but the salads were fresh , included a nice mix of greens ( not iceberg ) all dishes are served piping hot from the kitchen .', \"I did n't expect to like Nosh as much as I did , but the pastrami on challah sandwich I had was otherworldly , the soups are like Mom 's , and the knishes give Yonah Schimmel 's a run for its money .\", \"If you like your music blasted and the system isnt that great and if you want to pay at least 100 dollar bottle minimun then you 'll love it here .\", 'A must for all the Dosa lovers .', 'They might be all business at the counter when you give your order , but their food says I love you .', 'The food is great and reasonably priced .', 'So if you want a nice , enjoyable meal at Montparnasse , go early for the pre-theater prix-fixe .', \"Baluchi 's has solid food and a nice decor at reasonable prices .\", 'I LOVE their spicy scallop roll , and my boyfriend consistently gets the sesame chicken .', 'but the service was a bit slow .', 'The food there are sastifying .')\n"
          ]
        }
      ]
    },
    {
      "cell_type": "code",
      "source": [
        "#import torch\n",
        "from torch import nn\n",
        "import transformers\n",
        "from transformers import AutoTokenizer, BartModel"
      ],
      "metadata": {
        "id": "Q5USge3RJZMR"
      },
      "execution_count": 14,
      "outputs": []
    },
    {
      "cell_type": "code",
      "source": [
        "device = torch.device(\"cuda\" if torch.cuda.is_available() else \"cpu\")"
      ],
      "metadata": {
        "id": "iiB_KPQvyRib"
      },
      "execution_count": 15,
      "outputs": []
    },
    {
      "cell_type": "markdown",
      "source": [
        "##Modelo"
      ],
      "metadata": {
        "id": "2DoimDlPIFpH"
      }
    },
    {
      "cell_type": "markdown",
      "source": [
        "###BART"
      ],
      "metadata": {
        "id": "Yh5STuPYILi3"
      }
    },
    {
      "cell_type": "code",
      "source": [
        "#Modelo BART\n",
        "tokenizer = AutoTokenizer.from_pretrained(\"facebook/bart-base\")\n",
        "Bart_M = BartModel.from_pretrained(\"facebook/bart-base\")"
      ],
      "metadata": {
        "id": "t4sEfOppJ1ZF",
        "colab": {
          "base_uri": "https://localhost:8080/",
          "height": 49,
          "referenced_widgets": [
            "1f32295d3ccf4751a373c6ef79eaa787",
            "f9f38498f1fe4df287a3f610b07897e7",
            "cb7d90f876f34d3b9b0ac04429a63add",
            "cf6b8bb34f4643c7bb7775d5abcbbcb6",
            "d5a85fbe55bb4a1993a3f4f1428b2ebe",
            "317de1dcab754a9896e0199834d50678",
            "1a3b271ff9584135a120ff0ebc27bca0",
            "f1c029fc0e9f447fb45d10f6c6fb53f3",
            "cc413ec143a64359bd54398cc15c463b",
            "04b8c7fffaee4578b4b69174a9f20088",
            "cea9c89bd06f4f76b06a3dbe050ae0ba"
          ]
        },
        "outputId": "353b3530-8936-4b9b-8d6c-286e95a77e44"
      },
      "execution_count": 16,
      "outputs": [
        {
          "output_type": "display_data",
          "data": {
            "text/plain": [
              "model.safetensors:   0%|          | 0.00/558M [00:00<?, ?B/s]"
            ],
            "application/vnd.jupyter.widget-view+json": {
              "version_major": 2,
              "version_minor": 0,
              "model_id": "1f32295d3ccf4751a373c6ef79eaa787"
            }
          },
          "metadata": {}
        }
      ]
    },
    {
      "cell_type": "markdown",
      "source": [
        "###Encoder representation transform"
      ],
      "metadata": {
        "id": "_Qh91HioIOMZ"
      }
    },
    {
      "cell_type": "code",
      "source": [
        "#Recebe ultima camada decoder BART, ultima camada encoder BART e input embedding do encoder Bart.\n",
        "#Transformacao a ser customizada e comparada\n",
        "#precisa usar mascara para zerar elementos de pad\n",
        "\n",
        "#linear\n",
        "\"\"\"class Custom_transformation(torch.nn.Module):\n",
        "\n",
        "    def __init__(self):\n",
        "        super(Custom_transformation, self).__init__()\n",
        "        self.lin_weight = nn.Parameter(torch.rand(1))\n",
        "        self.lin_weight.requires_grad = True\n",
        "\n",
        "    def forward(self, imp_emb, dec_emb, mask):\n",
        "        msk = mask.reshape(mask.shape[0],-1,1)\n",
        "\n",
        "        out = self.lin_weight*dec_emb+(1-self.lin_weight)*imp_emb\n",
        "\n",
        "        return out*msk\"\"\"\n",
        "\n",
        "#mlp\n",
        "class Custom_transformation(torch.nn.Module):\n",
        "\n",
        "    def __init__(self):\n",
        "        super(Custom_transformation, self).__init__()\n",
        "        self.lin_weight = nn.Parameter(torch.rand(1))\n",
        "        self.linear1 = nn.Linear(768, 768,bias=True)\n",
        "        self.linear2 = nn.Linear(768, 768,bias=True)\n",
        "\n",
        "    def forward(self, enc_emb, imp_emb, mask):\n",
        "        x = self.linear1(enc_emb)\n",
        "        x = torch.nn.functional.relu(x)\n",
        "        x = self.linear2(x)\n",
        "        x = torch.nn.functional.relu(x)\n",
        "        msk = mask.reshape(mask.shape[0],-1,1)\n",
        "\n",
        "        out = self.lin_weight*x+(1-self.lin_weight)*imp_emb\n",
        "\n",
        "        return out*msk\n"
      ],
      "metadata": {
        "id": "vYFHezRTeuL8"
      },
      "execution_count": 17,
      "outputs": []
    },
    {
      "cell_type": "code",
      "source": [
        "tkns_transform = Custom_transformation()"
      ],
      "metadata": {
        "id": "9-m6mnI2hmXk"
      },
      "execution_count": 18,
      "outputs": []
    },
    {
      "cell_type": "markdown",
      "source": [
        "###Insere tokens de classe ao fim dos tokens de input, zera o excedente."
      ],
      "metadata": {
        "id": "lSu0gVM8OSFA"
      }
    },
    {
      "cell_type": "markdown",
      "source": [
        "###Completo"
      ],
      "metadata": {
        "id": "GV-Cj1hhJkKO"
      }
    },
    {
      "cell_type": "code",
      "source": [
        "#Modelo a ser treinado\n",
        "#Saida softmax entre indices de input\n",
        "\n",
        "class ABSAModel(torch.nn.Module):\n",
        "\n",
        "    def __init__(self):\n",
        "        super().__init__()\n",
        "        self.bart = Bart_M\n",
        "        self.dec_transform = tkns_transform\n",
        "\n",
        "        # Congelar os parâmetros do modelo BART\n",
        "        for param in self.bart.parameters():\n",
        "            param.requires_grad = False\n",
        "\n",
        "    def forward(self,encoder_inp, decoder_inp, mask, class_tkns ):\n",
        "        #Utilização do modelo BART\n",
        "        x = self.bart(input_ids = encoder_inp, attention_mask = mask, decoder_input_ids = decoder_inp)\n",
        "        encoder_last_hidden = x.encoder_last_hidden_state\n",
        "        decoder_last_hidden = x.last_hidden_state\n",
        "\n",
        "        #Obtem embedding\n",
        "        emb = self.bart.get_input_embeddings()\n",
        "\n",
        "        #Transformação da saida do encoder Bart e input encoder\n",
        "        inp_rep = emb(encoder_inp)\n",
        "        inp_rep = self.dec_transform(encoder_last_hidden[:,1:,:], inp_rep[:,1:,:], mask[:,1:])#retira token de inicio\n",
        "\n",
        "        #Embeding class tokens\n",
        "        class_emb = emb(class_tkns)\n",
        "\n",
        "        #Uniao rep dos inputs e classes\n",
        "        idx_rep = torch.cat((inp_rep,class_emb.expand(inp_rep.shape[0],-1,-1)),dim=1)\n",
        "        #Produto interno\n",
        "        out = torch.bmm(decoder_last_hidden, idx_rep.permute(0, 2, 1))\n",
        "        #Implementacao com paralelizacao\n",
        "        correc = torch.cat((mask[:,1:],torch.ones(mask.shape[0],class_tkns.shape[0],device=device)),dim=1).reshape(inp_rep.shape[0],1,-1)\n",
        "        out = out + (correc-1)*(10**5)\n",
        "        out = torch.softmax(out, dim = -1)\n",
        "\n",
        "\n",
        "\n",
        "        return out\n",
        "\n",
        "  #indice 0 equivale a indice 1 dos inputs (0 é token de inicio)."
      ],
      "metadata": {
        "id": "mG95k7hTII-0"
      },
      "execution_count": 19,
      "outputs": []
    },
    {
      "cell_type": "markdown",
      "source": [
        "##Crisp Index"
      ],
      "metadata": {
        "id": "gqPAcNdC5S0N"
      }
    },
    {
      "cell_type": "code",
      "source": [
        "def crisp_idx(outs):\n",
        "  return torch.argmax(outs, 2, keepdim=False)\n",
        "  #adicionar 1 se primeira palavra = 1"
      ],
      "metadata": {
        "id": "EWRTGbOB5Y5C"
      },
      "execution_count": 20,
      "outputs": []
    },
    {
      "cell_type": "markdown",
      "source": [
        "##Index2Token"
      ],
      "metadata": {
        "id": "EeRcziC9jCqk"
      }
    },
    {
      "cell_type": "code",
      "source": [
        "def idx2tkn(input_tokens,class_tkns):\n",
        "  return torch.cat((input_tokens[0][1:],class_tkns),-1).detach().clone()\n",
        "\n",
        "  ## Concatenar token dos inputs com token das classes para tkns"
      ],
      "metadata": {
        "id": "HwWAG1DEfjZR"
      },
      "execution_count": 21,
      "outputs": []
    },
    {
      "cell_type": "markdown",
      "source": [
        "#Treinamento"
      ],
      "metadata": {
        "id": "jzvR6FXwzCDl"
      }
    },
    {
      "cell_type": "markdown",
      "source": [
        "##Loss"
      ],
      "metadata": {
        "id": "-PXB6Bxz3Lzm"
      }
    },
    {
      "cell_type": "code",
      "source": [
        "# Leva indices de polaridade para valor correto\n",
        "def transformed_indexes(out_shape,idx_t):\n",
        "    idx_tensor = idx_t.clone()\n",
        "    for i in range(idx_tensor.shape[0]):\n",
        "      for j in range(idx_tensor.shape[1]):\n",
        "        if idx_tensor[i][j] == -1:\n",
        "          idx_tensor[i][j] = out_shape[-1] - 2\n",
        "        elif idx_tensor[i][j] == -2:\n",
        "          idx_tensor[i][j] = out_shape[-1] - 1\n",
        "        elif idx_tensor[i][j] == -3:\n",
        "          idx_tensor[i][j] = out_shape[-1]\n",
        "    return idx_tensor"
      ],
      "metadata": {
        "id": "Fp0G9yac3WK-"
      },
      "execution_count": 22,
      "outputs": []
    },
    {
      "cell_type": "code",
      "source": [
        "#loss\n",
        "loss = nn.NLLLoss()"
      ],
      "metadata": {
        "id": "LnAcJO0D3uk0"
      },
      "execution_count": 23,
      "outputs": []
    },
    {
      "cell_type": "code",
      "source": [
        "\n",
        "#Tranforma saida e alvo para calculo da loss, retorna loss calculada\n",
        "def nll_loss(absa_out,target_indexes, loss):\n",
        "  target = transformed_indexes(absa_out.shape,target_indexes).detach().clone()\n",
        "  mask = target.view(-1).bool()\n",
        "  target = target - 1\n",
        "  nll = loss(absa_out.view(-1,absa_out.shape[-1])[mask], target.view(-1)[mask])\n",
        "  return nll"
      ],
      "metadata": {
        "id": "C7baVtEI3wzJ"
      },
      "execution_count": 24,
      "outputs": []
    },
    {
      "cell_type": "markdown",
      "source": [
        "Teste"
      ],
      "metadata": {
        "id": "oH_am-QCqMHc"
      }
    },
    {
      "cell_type": "markdown",
      "source": [
        "###Tokens de Classe"
      ],
      "metadata": {
        "id": "RzA8x6HFZN1x"
      }
    },
    {
      "cell_type": "code",
      "source": [
        "c_tks =torch.Tensor([42740,5054,9009]).to(torch.int)"
      ],
      "metadata": {
        "id": "9cjGqnfG2ayR"
      },
      "execution_count": 25,
      "outputs": []
    },
    {
      "cell_type": "markdown",
      "source": [
        "modelo para testes"
      ],
      "metadata": {
        "id": "t5m2C4e64OEp"
      }
    },
    {
      "cell_type": "code",
      "execution_count": 26,
      "metadata": {
        "id": "6B6Fg2KRTR9S"
      },
      "outputs": [],
      "source": [
        "from sklearn.metrics import accuracy_score, confusion_matrix, f1_score\n",
        "def evaluate(dataloader, model, class_tokens, loss_func):\n",
        "  model.cuda()\n",
        "  model.eval()\n",
        "\n",
        "  loss = loss_func\n",
        "\n",
        "  total_loss = 0\n",
        "  num_batches = 0\n",
        "\n",
        "  for raw_text, decoder_input, test_indexes in dataloader:\n",
        "    x = tokenizer(raw_text, return_tensors=\"pt\", padding = True)\n",
        "    absa_out = model(x['input_ids'].to(device), decoder_input.to(device), x['attention_mask'].to(device),class_tokens.to(device))\n",
        "\n",
        "    test_indexes = test_indexes.to(device)\n",
        "    loss = nll_loss(absa_out, test_indexes, loss_func)\n",
        "    total_loss += loss.detach().cpu().item()\n",
        "\n",
        "    num_batches+=1\n",
        "\n",
        "  return total_loss/num_batches"
      ]
    },
    {
      "cell_type": "markdown",
      "metadata": {
        "id": "RL2aRCfrWf1S"
      },
      "source": [
        "## Epoch"
      ]
    },
    {
      "cell_type": "code",
      "execution_count": 27,
      "metadata": {
        "id": "jH4gSCwnWkgk"
      },
      "outputs": [],
      "source": [
        "def epoch(dataloader, model, optimizer, class_tokens, loss_func):\n",
        "  model.cuda()\n",
        "  model.train()\n",
        "\n",
        "\n",
        "  epoch_loss = 0.0\n",
        "  num_batches = 0\n",
        "\n",
        "  for raw_text, decoder_input, test_indexes in dataloader:\n",
        "    # erase the current model gradients\n",
        "    optimizer.zero_grad()\n",
        "    test_indexes\n",
        "\n",
        "    # forward\n",
        "    x = tokenizer(raw_text, return_tensors=\"pt\", padding = True)\n",
        "    absa_out = model(x['input_ids'].to(device), decoder_input.to(device), x['attention_mask'].to(device),class_tokens.to(device))\n",
        "    test_indexes = test_indexes.to(device)\n",
        "    loss = nll_loss(absa_out, test_indexes, loss_func)\n",
        "\n",
        "    # backward\n",
        "    loss.backward()\n",
        "\n",
        "    # weights update ~ w = w_cur - lr*grad(loss, w)\n",
        "    optimizer.step()\n",
        "\n",
        "    epoch_loss += loss.detach().cpu().item()\n",
        "    num_batches += 1\n",
        "  return epoch_loss/num_batches"
      ]
    },
    {
      "cell_type": "markdown",
      "metadata": {
        "id": "sDS97pMAdJ7b"
      },
      "source": [
        "## Pipeline\n",
        "\n",
        "\n",
        "\n",
        "1.   Define criterion (https://pytorch.org/docs/stable/nn.html#loss-functions)\n",
        "2.   Define optimizer (https://pytorch.org/docs/stable/optim.html)\n",
        "3.   Define hyperparameters (i.e. num epochs, learning rate, ...)\n",
        "4.   Training loop\n",
        "\n"
      ]
    },
    {
      "cell_type": "code",
      "source": [
        "device = torch.device(\"cuda\" if torch.cuda.is_available() else \"cpu\")\n",
        "class_tkns =torch.Tensor([42740,5054,9009]).to(torch.int)"
      ],
      "metadata": {
        "id": "tBwrW-CTHmQQ"
      },
      "execution_count": 28,
      "outputs": []
    },
    {
      "cell_type": "code",
      "source": [
        "model = ABSAModel()\n",
        "\n",
        "#Caso queria carregar os parâmetros\n",
        "#loaded_summary = torch.load('summary_4.pth')\n",
        "\n",
        "#model.load_state_dict(loaded_summary['model_state'])\n",
        "#train_loss = loaded_summary['train_loss_history']\n",
        "#test_loss = loaded_summary['nll_history']\n"
      ],
      "metadata": {
        "id": "YW3akqqihlxs"
      },
      "execution_count": 29,
      "outputs": []
    },
    {
      "cell_type": "code",
      "source": [
        "import matplotlib.pyplot as plt\n",
        "\n",
        "# Número de épocas\n",
        "epochs = range(1, len(train_loss) + 1)\n",
        "\n",
        "# Plotar as curvas de loss de treino e teste\n",
        "plt.plot(epochs, train_loss, label='Train Loss')\n",
        "plt.plot(epochs, test_loss, label='Test Loss')\n",
        "\n",
        "# Adicionar rótulos aos eixos\n",
        "plt.xlabel('Epochs')\n",
        "plt.ylabel('Loss')\n",
        "\n",
        "# Adicionar uma legenda\n",
        "plt.legend()\n",
        "\n",
        "# Exibir o gráfico\n",
        "plt.show()"
      ],
      "metadata": {
        "colab": {
          "base_uri": "https://localhost:8080/",
          "height": 449
        },
        "id": "64o_gQTa_3Zz",
        "outputId": "74f63a41-a5f7-4b52-8921-465b73940d27"
      },
      "execution_count": 33,
      "outputs": [
        {
          "output_type": "display_data",
          "data": {
            "text/plain": [
              "<Figure size 640x480 with 1 Axes>"
            ],
            "image/png": "[encoded data removed]"
          },
          "metadata": {}
        }
      ]
    },
    {
      "cell_type": "code",
      "execution_count": 45,
      "metadata": {
        "id": "QI7ItFUQZdnG",
        "colab": {
          "base_uri": "https://localhost:8080/"
        },
        "outputId": "18fce269-ed55-4f65-a905-c84594b02439"
      },
      "outputs": [
        {
          "output_type": "stream",
          "name": "stdout",
          "text": [
            "Epoch: 0\n",
            "\t Training loss: -0.6623320996761322\n",
            "\t Test loss: -0.6352766553560892\n",
            "\n",
            "Epoch: 1\n",
            "\t Training loss: -0.664996725320816\n",
            "\t Test loss: -0.6363462607065836\n",
            "\n",
            "Epoch: 2\n",
            "\t Training loss: -0.6633228898048401\n",
            "\t Test loss: -0.6325829823811849\n",
            "\n",
            "Epoch: 3\n",
            "\t Training loss: -0.663504421710968\n",
            "\t Test loss: -0.6287752985954285\n",
            "\n",
            "Epoch: 4\n",
            "\t Training loss: -0.6656990826129914\n",
            "\t Test loss: -0.626280685265859\n",
            "\n",
            "Epoch: 5\n",
            "\t Training loss: -0.6685850918292999\n",
            "\t Test loss: -0.6214234828948975\n",
            "\n",
            "Epoch: 6\n",
            "\t Training loss: -0.6668850123882294\n",
            "\t Test loss: -0.6258908112843832\n",
            "\n",
            "Epoch: 7\n",
            "\t Training loss: -0.6678331315517425\n",
            "\t Test loss: -0.6195388038953146\n",
            "\n",
            "Epoch: 8\n",
            "\t Training loss: -0.6661926805973053\n",
            "\t Test loss: -0.6198161840438843\n",
            "\n",
            "Epoch: 9\n",
            "\t Training loss: -0.6696873962879181\n",
            "\t Test loss: -0.6334195733070374\n",
            "\n"
          ]
        }
      ],
      "source": [
        "summary = {\n",
        "    'model_state':None,\n",
        "    'nll_history':[],\n",
        "    'train_loss_history':[]\n",
        "}\n",
        "\n",
        "\n",
        "lr = 1e-3\n",
        "num_epochs = 10\n",
        "best_loss = 0.0\n",
        "\n",
        "optimizer = torch.optim.Adam(model.parameters(), lr=lr)\n",
        "loss_function = nn.NLLLoss()\n",
        "\n",
        "\n",
        "for e in range(num_epochs):\n",
        "  print('Epoch:', e)\n",
        "  cur_loss = epoch(train_datapack, model, optimizer, class_tkns, loss_function)\n",
        "  test_nll = evaluate(dev_datapack, model, class_tkns, loss_function)\n",
        "\n",
        "  summary['nll_history'].append(test_nll)\n",
        "  summary['train_loss_history'].append(cur_loss)\n",
        "\n",
        "  if test_nll < best_loss:\n",
        "    summary['model_state'] = model.state_dict()\n",
        "    best_loss = test_nll\n",
        "\n",
        "  print('\\t Training loss:', cur_loss)\n",
        "  print('\\t Test loss:', test_nll)\n",
        "  print()\n",
        "\n",
        "summary_path = 'summary_5.pth'\n",
        "\n",
        "torch.save(summary, summary_path)"
      ]
    },
    {
      "cell_type": "code",
      "source": [
        "### BEAM SEARCH com beam 2\n",
        "# input apenas uma frase\n",
        "def beam_search(model, input, class_tokens):\n",
        "    model.cuda()\n",
        "    model.eval()\n",
        "    end_token = 2\n",
        "\n",
        "    encoder_inp =  tokenizer(input, return_tensors=\"pt\", padding = True)\n",
        "    inp_frase = encoder_inp['input_ids']\n",
        "    inp_mask = encoder_inp['attention_mask'] #Frase e mascara\n",
        "\n",
        "\n",
        "    idx_token_list = idx2tkn(encoder_inp['input_ids'],class_tokens) #Cria lista de tokens para indices\n",
        "\n",
        "\n",
        "#Inicializa frases de saida com token de inicio\n",
        "#Probabilidades como 1\n",
        "    top_outputs = [torch.Tensor([[0]]).to(torch.int),torch.Tensor([[0]]).to(torch.int)]\n",
        "    top_scores =[1.0,1.0]\n",
        "\n",
        "#Primeiro uso do modelo\n",
        "    probs =  model(inp_frase.to(device), top_outputs[0].to(device), inp_mask.to(device), class_tokens.to(device))\n",
        "    top2 = torch.topk(probs[0,-1,:],2)\n",
        "\n",
        "#probabilidades com primeiro token\n",
        "    top_scores[0] = top2[0][0]\n",
        "    top_scores[1] = top2[0][1]\n",
        "\n",
        "#adiciona token na frase\n",
        "    first_token =  idx_token_list[top2[1][0]]\n",
        "    second_token =  idx_token_list[top2[1][1]]\n",
        "\n",
        "    top_outputs[0] = torch.cat((top_outputs[0],first_token.view(1,1)),-1)\n",
        "    top_outputs[1] = torch.cat((top_outputs[1],second_token.view(1,1)),-1)\n",
        "\n",
        "#Possivel terminação\n",
        "    if first_token == end_token:\n",
        "      return top_outputs[0]\n",
        "\n",
        "#Booleano que indica se ultimo indice não é de final\n",
        "    goon_first = True\n",
        "    if first_token == end_token:\n",
        "      goon_second = True\n",
        "    else:\n",
        "      goon_second = False\n",
        "\n",
        "#continua beam search\n",
        "    max_out_tkns = 0\n",
        "    while(goon_first or goon_second or max_out_tkns > 40):\n",
        "      l_tkns = []\n",
        "      l_probs = []\n",
        "\n",
        "      #explora 3 ou 4 opcoes\n",
        "      if goon_first:\n",
        "        first_prob = model(inp_frase.to(device), top_outputs[0].to(device), inp_mask.to(device), class_tokens.to(device))\n",
        "        top2 = torch.topk(first_prob[0,-1,:],2)\n",
        "\n",
        "\n",
        "        l_tkns.append(torch.cat((top_outputs[0], idx_token_list[top2[1][0].to('cpu')].view(1,1)),-1))\n",
        "        l_probs.append(top_scores[0]*top2[0][0])\n",
        "        l_tkns.append(torch.cat((top_outputs[0], idx_token_list[top2[1][1].to('cpu')].view(1,1)),-1))\n",
        "        l_probs.append(top_scores[0]*top2[0][1])\n",
        "\n",
        "      else:\n",
        "        l_tkns.append(top_outputs[0])\n",
        "        l_probs.append(top_scores[0])\n",
        "\n",
        "      if goon_second:\n",
        "        second_prob = model(inp_frase.to(device), top_outputs[1].to(device), inp_mask.to(device), class_tokens.to(device))\n",
        "        top2 = torch.topk(second_prob[0,-1,:],2)\n",
        "\n",
        "        l_tkns.append(torch.cat((top_outputs[1], idx_token_list[top2[1][0].to('cpu')].view(1,1)),-1))\n",
        "        l_probs.append(top_scores[1]*top2[0][0])\n",
        "        l_tkns.append(torch.cat((top_outputs[1], idx_token_list[top2[1][1].to('cpu')].view(1,1)),-1))\n",
        "        l_probs.append(top_scores[1]*top2[0][1])\n",
        "\n",
        "      else:\n",
        "        l_tkns.append(top_outputs[1])\n",
        "        l_probs.append(top_scores[1])\n",
        "\n",
        "\n",
        "      #seleciona top2\n",
        "      tensor_scores = torch.Tensor(l_probs)\n",
        "      tensor_scores = torch.topk(tensor_scores,2)\n",
        "\n",
        "      top_scores[0] = l_probs[tensor_scores[1][0]]\n",
        "      top_scores[1] = l_probs[tensor_scores[1][1]]\n",
        "\n",
        "      top_outputs[0] = l_tkns[tensor_scores[1][0]]\n",
        "      top_outputs[1] = l_tkns[tensor_scores[1][1]]\n",
        "\n",
        "      #indica se ambos terminaram\n",
        "      if top_outputs[0][0][-1] == end_token:\n",
        "        goon_first = False\n",
        "      else:\n",
        "        goon_first = True\n",
        "\n",
        "      if top_outputs[1][0][-1] == end_token:\n",
        "        goon_second = False\n",
        "      else:\n",
        "        goon_second = True\n",
        "\n",
        "      max_out_tkns+=1\n",
        "  #Retorna sequencia com maior probabilidade\n",
        "    return top_outputs[0]"
      ],
      "metadata": {
        "id": "0-vSUXiJh2VU"
      },
      "execution_count": 30,
      "outputs": []
    },
    {
      "cell_type": "markdown",
      "source": [
        "# Avaliação\n"
      ],
      "metadata": {
        "id": "YK_3YTE3BQzF"
      }
    },
    {
      "cell_type": "code",
      "source": [
        "path_test = 'test_convert_14res.json'\n",
        "\n",
        "test_frase, test_tkns, test_pos = load_data(path_test,tokenizer,pol_dict)"
      ],
      "metadata": {
        "id": "kCaD4bveBYHF"
      },
      "execution_count": 31,
      "outputs": []
    },
    {
      "cell_type": "code",
      "source": [
        "#for a,b,c in train_datapack:\n",
        "  #frase = a[2]\n",
        "  #target = b[2]\n",
        "  #break"
      ],
      "metadata": {
        "id": "3wl0MN9rYoiy"
      },
      "execution_count": null,
      "outputs": []
    },
    {
      "cell_type": "code",
      "source": [
        "def predict(model, frases):\n",
        "\n",
        "    outputs = []\n",
        "    for i in range(len(frases)):\n",
        "        output = beam_search(model, frases[i], class_tkns).tolist()[0]\n",
        "        outputs.append(output)\n",
        "\n",
        "    return outputs\n"
      ],
      "metadata": {
        "id": "_38J4TJGT6bn"
      },
      "execution_count": 32,
      "outputs": []
    },
    {
      "cell_type": "code",
      "source": [
        "outputs = predict(model,test_frase)\n",
        "outputs[0]"
      ],
      "metadata": {
        "id": "tMiIeupfcLkz",
        "colab": {
          "base_uri": "https://localhost:8080/"
        },
        "outputId": "2478c267-5454-4984-e48e-41e85a7a9568"
      },
      "execution_count": 33,
      "outputs": [
        {
          "output_type": "execute_result",
          "data": {
            "text/plain": [
              "[0, 8084, 8084, 9009, 2]"
            ]
          },
          "metadata": {},
          "execution_count": 33
        }
      ]
    },
    {
      "cell_type": "code",
      "source": [
        "print(outputs[6])\n",
        "test_tkns[6]"
      ],
      "metadata": {
        "colab": {
          "base_uri": "https://localhost:8080/"
        },
        "id": "hUJLtPCaFpIV",
        "outputId": "f9218ce8-08d4-48a4-d1d8-d4d24686fa01"
      },
      "execution_count": 34,
      "outputs": [
        {
          "output_type": "stream",
          "name": "stdout",
          "text": [
            "[0, 41695, 689, 9009, 2]\n"
          ]
        },
        {
          "output_type": "execute_result",
          "data": {
            "text/plain": [
              "[0, 2898, 689, 42740, 2]"
            ]
          },
          "metadata": {},
          "execution_count": 34
        }
      ]
    },
    {
      "cell_type": "code",
      "source": [
        "#F-score = 2*P*R/(P+R)\n",
        "\n",
        "#Onde:\n",
        "#P = a + 0.5*b / s\n",
        "#Onde: a = numero de aspec+emot previstos corretamente\n",
        "# b = numero de aspec previsto correto mas emocao errada.\n",
        "# s = numero de aspec+emocao previstos\n",
        "\n",
        "# R = P = a + 0.5*b / g\n",
        "# g = numero de aspc+emocao como target\n",
        "\n",
        "a = 0\n",
        "b = 0\n",
        "s = 0\n",
        "g = 0\n",
        "\n",
        "for i, label in enumerate(test_tkns):\n",
        "\n",
        "    aspects_label = []\n",
        "    aspects_output = []\n",
        "    for j in range(1,len(label)-1,3):\n",
        "        asp = [label[j],label[j+1],label[j+2]]\n",
        "        aspects_label.append(asp)\n",
        "\n",
        "    for j in range(1,len(outputs[i])-1,3):\n",
        "        if len(outputs[i])> j+2:\n",
        "            asp = [outputs[i][j],outputs[i][j+1],outputs[i][j+2]]\n",
        "            aspects_output.append(asp)\n",
        "\n",
        "    ##for j in range(len(aspects_ouput)):\n",
        "    s += len(aspects_output)\n",
        "    g += len(aspects_label)\n",
        "\n",
        "    for j in range(len(aspects_output)):\n",
        "        tk_asp = aspects_output[j][:2]\n",
        "        if aspects_output[j] in aspects_label:\n",
        "            a+=1\n",
        "        elif any(tk_asp == label[:2] for label in aspects_label):\n",
        "            b+=1\n",
        "\n",
        "\n",
        "    ##print(f'Target = {aspects_label}')\n",
        "    ##print(f'Output = {aspects_ouput}')\n",
        "\n",
        "prec = (a + 0.5*b) / s\n",
        "rec = (a + 0.5*b) / g\n",
        "fscore = (2*prec*rec)/(prec+rec)\n",
        "acc =  (a/s)\n",
        "\n",
        "print(prec)\n",
        "print(rec)\n",
        "print(fscore)\n",
        "print(acc)\n",
        "\n"
      ],
      "metadata": {
        "colab": {
          "base_uri": "https://localhost:8080/"
        },
        "id": "H2szvv3Rcibt",
        "outputId": "a144b95f-d2c6-4e25-d516-887be0dc942a"
      },
      "execution_count": 35,
      "outputs": [
        {
          "output_type": "stream",
          "name": "stdout",
          "text": [
            "0.46905537459283386\n",
            "0.34285714285714286\n",
            "0.3961485557083907\n",
            "0.21498371335504887\n"
          ]
        }
      ]
    },
    {
      "cell_type": "code",
      "source": [
        "#F-score = 2*P*R/(P+R)\n",
        "\n",
        "#Onde:\n",
        "#P = a + 0.5*b / s\n",
        "#Onde: a = numero de aspec+emot previstos corretamente\n",
        "# b = numero de aspec previsto correto mas emocao errada.\n",
        "# s = numero de aspec+emocao previstos\n",
        "\n",
        "# R = P = a + 0.5*b / g\n",
        "# g = numero de aspc+emocao como target\n",
        "\n",
        "a = 0\n",
        "b = 0\n",
        "s = 0\n",
        "g = 0\n",
        "\n",
        "for i, label in enumerate(test_tkns):\n",
        "\n",
        "    aspects_label = []\n",
        "    aspects_output = []\n",
        "    for j in range(1,len(label)-1,3):\n",
        "        asp = [label[j],label[j+1]]\n",
        "        aspects_label.append(asp)\n",
        "\n",
        "    for j in range(1,len(outputs[i])-1,3):\n",
        "        if len(outputs[i])> j+2:\n",
        "            asp = [outputs[i][j],outputs[i][j+1]]\n",
        "            aspects_output.append(asp)\n",
        "\n",
        "    ##for j in range(len(aspects_ouput)):\n",
        "    s += len(aspects_output)\n",
        "    g += len(aspects_label)\n",
        "\n",
        "    for j in range(len(aspects_output)):\n",
        "        tk_asp_inic = aspects_output[j][:0]\n",
        "        tk_asp_fim = aspects_output[j][:1]\n",
        "        if aspects_output[j] in aspects_label:\n",
        "            a+=1\n",
        "        elif any(tk_asp == label[:0] for label in aspects_label):\n",
        "            b+=1\n",
        "        elif any(tk_asp == label[:1] for label in aspects_label):\n",
        "            b+=1\n",
        "\n",
        "\n",
        "    ##print(f'Target = {aspects_label}')\n",
        "    ##print(f'Output = {aspects_ouput}')\n",
        "\n",
        "prec = (a + 0.5*b) / s\n",
        "rec = (a + 0.5*b) / g\n",
        "fscore = (2*prec*rec)/(prec+rec)\n",
        "\n",
        "print(prec)\n",
        "print(rec)\n",
        "print(fscore)\n",
        "\n",
        "\n"
      ],
      "metadata": {
        "id": "cLfKvbSMDjcz",
        "colab": {
          "base_uri": "https://localhost:8080/"
        },
        "outputId": "d93679a1-9666-4078-b9c7-020a1bc0a14c"
      },
      "execution_count": 36,
      "outputs": [
        {
          "output_type": "stream",
          "name": "stdout",
          "text": [
            "0.7231270358306189\n",
            "0.5285714285714286\n",
            "0.6107290233837689\n"
          ]
        }
      ]
    },
    {
      "cell_type": "code",
      "source": [
        "loaded_summary = torch.load('summary.pth')\n",
        "\n",
        "train_loss_1 = loaded_summary['train_loss_history']\n",
        "test_loss_1 = loaded_summary['nll_history']\n",
        "\n",
        "loaded_summary = torch.load('summary_2.pth')\n",
        "\n",
        "train_loss_2 = loaded_summary['train_loss_history']\n",
        "test_loss_2 = loaded_summary['nll_history']\n",
        "\n",
        "loaded_summary = torch.load('summary_3.pth')\n",
        "\n",
        "train_loss_3 = loaded_summary['train_loss_history']\n",
        "test_loss_3 = loaded_summary['nll_history']\n",
        "\n",
        "loaded_summary = torch.load('summary_4.pth')\n",
        "\n",
        "train_loss_4 = loaded_summary['train_loss_history']\n",
        "test_loss_4 = loaded_summary['nll_history']"
      ],
      "metadata": {
        "id": "wN09NxtNnYvA"
      },
      "execution_count": 37,
      "outputs": []
    },
    {
      "cell_type": "code",
      "source": [
        "train_loss = train_loss_1 + train_loss_2 + train_loss_3 + train_loss_4\n",
        "test_loss = test_loss_1 + test_loss_2 + test_loss_3 + test_loss_4"
      ],
      "metadata": {
        "id": "DDvw_ci4oKcM"
      },
      "execution_count": 38,
      "outputs": []
    },
    {
      "cell_type": "code",
      "source": [
        "import matplotlib.pyplot as plt\n",
        "\n",
        "# Número de épocas\n",
        "epochs = range(1, len(train_loss) + 1)\n",
        "\n",
        "# Plotar as curvas de loss de treino e teste\n",
        "plt.plot(epochs, train_loss, label='Train Loss')\n",
        "plt.plot(epochs, test_loss, label='Test Loss')\n",
        "\n",
        "# Adicionar rótulos aos eixos\n",
        "plt.xlabel('Epochs')\n",
        "plt.ylabel('Loss')\n",
        "\n",
        "# Adicionar uma legenda\n",
        "plt.legend()\n",
        "\n",
        "# Exibir o gráfico\n",
        "plt.show()"
      ],
      "metadata": {
        "colab": {
          "base_uri": "https://localhost:8080/",
          "height": 449
        },
        "id": "G3MF8zG4oWou",
        "outputId": "839194a9-ff3f-4bae-d4d2-bc5f44c5d3bb"
      },
      "execution_count": 39,
      "outputs": [
        {
          "output_type": "display_data",
          "data": {
            "text/plain": [
              "<Figure size 640x480 with 1 Axes>"
            ],
            "image/png": "[encoded data removed]"
          },
          "metadata": {}
        }
      ]
    }
  ]
}